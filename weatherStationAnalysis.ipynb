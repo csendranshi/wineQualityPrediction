{
  "nbformat": 4,
  "nbformat_minor": 0,
  "metadata": {
    "colab": {
      "name": "weatherStationAnalysis.ipynb",
      "provenance": [],
      "collapsed_sections": []
    },
    "kernelspec": {
      "name": "python3",
      "display_name": "Python 3"
    },
    "language_info": {
      "name": "python"
    }
  },
  "cells": [
    {
      "cell_type": "markdown",
      "source": [
        "# Sensor Data Analysis\n",
        "\n",
        "The notebook showcases a real-world case using time series data analysis on sensor data. Time series forecasting occurs when you make scientific predictions based on historical time stamped data. It involves building models through historical analysis and using them to make observations and drive future strategic decision-making.\n",
        "\n",
        "The data set used here has been collected by the team members (Anshika Gupta, Reuben Coutinho, Rhea Rodrigues and Ankita Tripathi)\n",
        "\n",
        "The notebook structure can be observed as:\n",
        "1. Data preparation and Cleaning\n",
        "2. Exploratory Data Analysis\n",
        "3. Kmeans Clustering\n",
        "4. Testing and results\n",
        "\n",
        "\n",
        "Resources and references:\n",
        "1. https://www.tableau.com/learn/articles/time-series-forecasting#:~:text=Time%20series%20forecasting%20occurs%20when,drive%20future%20strategic%20decision%2Dmaking\n",
        "2. https://towardsdatascience.com/time-series-clustering-deriving-trends-and-archetypes-from-sequential-data-bb87783312b4#:~:text=Time%20Series%20Clustering%20is%20an,and%20minimize%20it%20across%20clusters.\n",
        "3. https://towardsdatascience.com/how-to-apply-k-means-clustering-to-time-series-data-28d04a8f7da3\n",
        "4. https://towardsdatascience.com/exploratory-sensor-data-analysis-in-python-3a26d6931e67\n",
        "\n",
        "5. Code: https://www.knime.com/blog/time-series-temperature-prediction-iot-sensors"
      ],
      "metadata": {
        "id": "gpA5NA1IzC5h"
      }
    },
    {
      "cell_type": "code",
      "execution_count": null,
      "metadata": {
        "id": "kjH4NIrEuuV_"
      },
      "outputs": [],
      "source": [
        "import pandas as pd\n",
        "import numpy as np\n",
        "import matplotlib.pyplot as plt\n",
        "import seaborn as sns"
      ]
    },
    {
      "cell_type": "markdown",
      "source": [
        "#### Getting the Data\n",
        "\n",
        "The dataset can be loaded in 2 ways:\n",
        "1. Using the Google sheets API through the auth token\n",
        "2. Directly uploading the csv file "
      ],
      "metadata": {
        "id": "WOK__Z7c3Wp_"
      }
    },
    {
      "cell_type": "markdown",
      "source": [
        "#### Way 1: Using the Google sheets API through the auth token"
      ],
      "metadata": {
        "id": "_aaMoOsv3vhX"
      }
    },
    {
      "cell_type": "code",
      "source": [
        "import gspread \n",
        "from oauth2client.service_account import ServiceAccountCredentials"
      ],
      "metadata": {
        "id": "g9Q5j1ol0-A1"
      },
      "execution_count": null,
      "outputs": []
    },
    {
      "cell_type": "code",
      "source": [
        "# define the scope\n",
        "scope = ['https://spreadsheets.google.com/feeds','https://www.googleapis.com/auth/drive']\n",
        "\n",
        "# add credentials to the account\n",
        "creds = ServiceAccountCredentials.from_json_keyfile_name('weatherdataanalysis-86eab15d29a4.json', scope)\n",
        "\n",
        "# authorize the clientsheet \n",
        "client = gspread.authorize(creds)"
      ],
      "metadata": {
        "id": "POOnzCfMMoB9",
        "colab": {
          "base_uri": "https://localhost:8080/",
          "height": 372
        },
        "outputId": "9f20e89b-216d-4dca-ff4e-918a76d251be"
      },
      "execution_count": null,
      "outputs": [
        {
          "output_type": "error",
          "ename": "FileNotFoundError",
          "evalue": "ignored",
          "traceback": [
            "\u001b[0;31m---------------------------------------------------------------------------\u001b[0m",
            "\u001b[0;31mFileNotFoundError\u001b[0m                         Traceback (most recent call last)",
            "\u001b[0;32m<ipython-input-3-54c95ca78589>\u001b[0m in \u001b[0;36m<module>\u001b[0;34m()\u001b[0m\n\u001b[1;32m      3\u001b[0m \u001b[0;34m\u001b[0m\u001b[0m\n\u001b[1;32m      4\u001b[0m \u001b[0;31m# add credentials to the account\u001b[0m\u001b[0;34m\u001b[0m\u001b[0;34m\u001b[0m\u001b[0;34m\u001b[0m\u001b[0m\n\u001b[0;32m----> 5\u001b[0;31m \u001b[0mcreds\u001b[0m \u001b[0;34m=\u001b[0m \u001b[0mServiceAccountCredentials\u001b[0m\u001b[0;34m.\u001b[0m\u001b[0mfrom_json_keyfile_name\u001b[0m\u001b[0;34m(\u001b[0m\u001b[0;34m'weatherdataanalysis-86eab15d29a4.json'\u001b[0m\u001b[0;34m,\u001b[0m \u001b[0mscope\u001b[0m\u001b[0;34m)\u001b[0m\u001b[0;34m\u001b[0m\u001b[0;34m\u001b[0m\u001b[0m\n\u001b[0m\u001b[1;32m      6\u001b[0m \u001b[0;34m\u001b[0m\u001b[0m\n\u001b[1;32m      7\u001b[0m \u001b[0;31m# authorize the clientsheet\u001b[0m\u001b[0;34m\u001b[0m\u001b[0;34m\u001b[0m\u001b[0;34m\u001b[0m\u001b[0m\n",
            "\u001b[0;32m/usr/local/lib/python3.7/dist-packages/oauth2client/service_account.py\u001b[0m in \u001b[0;36mfrom_json_keyfile_name\u001b[0;34m(cls, filename, scopes, token_uri, revoke_uri)\u001b[0m\n\u001b[1;32m    217\u001b[0m                 \u001b[0mthe\u001b[0m \u001b[0mkeyfile\u001b[0m\u001b[0;34m.\u001b[0m\u001b[0;34m\u001b[0m\u001b[0;34m\u001b[0m\u001b[0m\n\u001b[1;32m    218\u001b[0m         \"\"\"\n\u001b[0;32m--> 219\u001b[0;31m         \u001b[0;32mwith\u001b[0m \u001b[0mopen\u001b[0m\u001b[0;34m(\u001b[0m\u001b[0mfilename\u001b[0m\u001b[0;34m,\u001b[0m \u001b[0;34m'r'\u001b[0m\u001b[0;34m)\u001b[0m \u001b[0;32mas\u001b[0m \u001b[0mfile_obj\u001b[0m\u001b[0;34m:\u001b[0m\u001b[0;34m\u001b[0m\u001b[0;34m\u001b[0m\u001b[0m\n\u001b[0m\u001b[1;32m    220\u001b[0m             \u001b[0mclient_credentials\u001b[0m \u001b[0;34m=\u001b[0m \u001b[0mjson\u001b[0m\u001b[0;34m.\u001b[0m\u001b[0mload\u001b[0m\u001b[0;34m(\u001b[0m\u001b[0mfile_obj\u001b[0m\u001b[0;34m)\u001b[0m\u001b[0;34m\u001b[0m\u001b[0;34m\u001b[0m\u001b[0m\n\u001b[1;32m    221\u001b[0m         return cls._from_parsed_json_keyfile(client_credentials, scopes,\n",
            "\u001b[0;31mFileNotFoundError\u001b[0m: [Errno 2] No such file or directory: 'weatherdataanalysis-86eab15d29a4.json'"
          ]
        }
      ]
    },
    {
      "cell_type": "code",
      "source": [
        "# get the instance of the Spreadsheet\n",
        "sheet = client.open('WeatherData')\n",
        "\n",
        "# get the first sheet of the Spreadsheet\n",
        "sheet_instance = sheet.get_worksheet(0)"
      ],
      "metadata": {
        "id": "wzvbq9lgO7wL",
        "colab": {
          "base_uri": "https://localhost:8080/",
          "height": 244
        },
        "outputId": "42c02320-b5a5-4cba-9f4c-49570169c85f"
      },
      "execution_count": null,
      "outputs": [
        {
          "output_type": "error",
          "ename": "NameError",
          "evalue": "ignored",
          "traceback": [
            "\u001b[0;31m---------------------------------------------------------------------------\u001b[0m",
            "\u001b[0;31mNameError\u001b[0m                                 Traceback (most recent call last)",
            "\u001b[0;32m<ipython-input-4-4e63e96b4609>\u001b[0m in \u001b[0;36m<module>\u001b[0;34m()\u001b[0m\n\u001b[1;32m      1\u001b[0m \u001b[0;31m# get the instance of the Spreadsheet\u001b[0m\u001b[0;34m\u001b[0m\u001b[0;34m\u001b[0m\u001b[0;34m\u001b[0m\u001b[0m\n\u001b[0;32m----> 2\u001b[0;31m \u001b[0msheet\u001b[0m \u001b[0;34m=\u001b[0m \u001b[0mclient\u001b[0m\u001b[0;34m.\u001b[0m\u001b[0mopen\u001b[0m\u001b[0;34m(\u001b[0m\u001b[0;34m'WeatherData'\u001b[0m\u001b[0;34m)\u001b[0m\u001b[0;34m\u001b[0m\u001b[0;34m\u001b[0m\u001b[0m\n\u001b[0m\u001b[1;32m      3\u001b[0m \u001b[0;34m\u001b[0m\u001b[0m\n\u001b[1;32m      4\u001b[0m \u001b[0;31m# get the first sheet of the Spreadsheet\u001b[0m\u001b[0;34m\u001b[0m\u001b[0;34m\u001b[0m\u001b[0;34m\u001b[0m\u001b[0m\n\u001b[1;32m      5\u001b[0m \u001b[0msheet_instance\u001b[0m \u001b[0;34m=\u001b[0m \u001b[0msheet\u001b[0m\u001b[0;34m.\u001b[0m\u001b[0mget_worksheet\u001b[0m\u001b[0;34m(\u001b[0m\u001b[0;36m0\u001b[0m\u001b[0;34m)\u001b[0m\u001b[0;34m\u001b[0m\u001b[0;34m\u001b[0m\u001b[0m\n",
            "\u001b[0;31mNameError\u001b[0m: name 'client' is not defined"
          ]
        }
      ]
    },
    {
      "cell_type": "code",
      "source": [
        "sheet_instance.col_count"
      ],
      "metadata": {
        "id": "tqhcBYuoPHw7"
      },
      "execution_count": null,
      "outputs": []
    },
    {
      "cell_type": "code",
      "source": [
        "records = sheet_instance.get_all_records()"
      ],
      "metadata": {
        "id": "GQ5vYR2APM3z"
      },
      "execution_count": null,
      "outputs": []
    },
    {
      "cell_type": "code",
      "source": [
        "records"
      ],
      "metadata": {
        "id": "4HNaorz3PTiJ"
      },
      "execution_count": null,
      "outputs": []
    },
    {
      "cell_type": "markdown",
      "source": [
        "#### Way 2: Direct upload from csv file"
      ],
      "metadata": {
        "id": "fE3O6MPz39eI"
      }
    },
    {
      "cell_type": "code",
      "source": [
        "records = pd.read_csv(\"WeatherData - WeatherData.csv\")\n",
        "records"
      ],
      "metadata": {
        "colab": {
          "base_uri": "https://localhost:8080/",
          "height": 423
        },
        "id": "OUZTFs-H1ZoW",
        "outputId": "75506aac-8415-425d-848a-3767659aa0de"
      },
      "execution_count": null,
      "outputs": [
        {
          "output_type": "execute_result",
          "data": {
            "text/plain": [
              "      Entry No.             Date and Time temperature (C) humidity (%)  \\\n",
              "0             1  2022-02-08T14:50:05.894Z            nan          nan    \n",
              "1             2  2022-02-08T14:50:50.935Z            28.4           67   \n",
              "2             3  2022-02-08T14:51:20.795Z            28.4         64.3   \n",
              "3             4  2022-02-08T14:56:24.488Z            28.4           66   \n",
              "4             5  2022-02-08T15:01:28.189Z            28.1         65.2   \n",
              "...         ...                       ...             ...          ...   \n",
              "1062       1063  2022-03-17T07:07:03.292Z            31.9         53.7   \n",
              "1063       1064  2022-03-17T07:12:06.787Z            31.9         53.3   \n",
              "1064       1065  2022-03-17T07:17:10.583Z            32.9         52.4   \n",
              "1065       1066  2022-03-17T07:22:14.088Z            33.6           51   \n",
              "1066       1067  2022-03-17T07:27:17.666Z            33.9         51.2   \n",
              "\n",
              "     heat index (C)  pressure (Pa)  altitude (m)  lightDensity (V)  \\\n",
              "0              nan          101070         21.25              4095   \n",
              "1             31.01         101067         21.42              4095   \n",
              "2             30.63         101067         21.75              4095   \n",
              "3             30.87         101069         21.09                 0   \n",
              "4             30.23         101073         20.84                13   \n",
              "...             ...            ...           ...               ...   \n",
              "1062          35.09         100465         72.18               243   \n",
              "1063          34.99         100457         72.77               240   \n",
              "1064          36.79         100444         73.36               252   \n",
              "1065          37.85         100446         73.11               240   \n",
              "1066          38.58         100432         74.78               251   \n",
              "\n",
              "      UV Intensity (mW/cm^2)  \n",
              "0                      -0.79  \n",
              "1                      -0.88  \n",
              "2                      -0.99  \n",
              "3                      -0.64  \n",
              "4                      -0.68  \n",
              "...                      ...  \n",
              "1062                    1.14  \n",
              "1063                    1.16  \n",
              "1064                    1.17  \n",
              "1065                    1.18  \n",
              "1066                    1.19  \n",
              "\n",
              "[1067 rows x 9 columns]"
            ],
            "text/html": [
              "\n",
              "  <div id=\"df-37787ba4-f4dc-4b51-b10a-5bb193179e1c\">\n",
              "    <div class=\"colab-df-container\">\n",
              "      <div>\n",
              "<style scoped>\n",
              "    .dataframe tbody tr th:only-of-type {\n",
              "        vertical-align: middle;\n",
              "    }\n",
              "\n",
              "    .dataframe tbody tr th {\n",
              "        vertical-align: top;\n",
              "    }\n",
              "\n",
              "    .dataframe thead th {\n",
              "        text-align: right;\n",
              "    }\n",
              "</style>\n",
              "<table border=\"1\" class=\"dataframe\">\n",
              "  <thead>\n",
              "    <tr style=\"text-align: right;\">\n",
              "      <th></th>\n",
              "      <th>Entry No.</th>\n",
              "      <th>Date and Time</th>\n",
              "      <th>temperature (C)</th>\n",
              "      <th>humidity (%)</th>\n",
              "      <th>heat index (C)</th>\n",
              "      <th>pressure (Pa)</th>\n",
              "      <th>altitude (m)</th>\n",
              "      <th>lightDensity (V)</th>\n",
              "      <th>UV Intensity (mW/cm^2)</th>\n",
              "    </tr>\n",
              "  </thead>\n",
              "  <tbody>\n",
              "    <tr>\n",
              "      <th>0</th>\n",
              "      <td>1</td>\n",
              "      <td>2022-02-08T14:50:05.894Z</td>\n",
              "      <td>nan</td>\n",
              "      <td>nan</td>\n",
              "      <td>nan</td>\n",
              "      <td>101070</td>\n",
              "      <td>21.25</td>\n",
              "      <td>4095</td>\n",
              "      <td>-0.79</td>\n",
              "    </tr>\n",
              "    <tr>\n",
              "      <th>1</th>\n",
              "      <td>2</td>\n",
              "      <td>2022-02-08T14:50:50.935Z</td>\n",
              "      <td>28.4</td>\n",
              "      <td>67</td>\n",
              "      <td>31.01</td>\n",
              "      <td>101067</td>\n",
              "      <td>21.42</td>\n",
              "      <td>4095</td>\n",
              "      <td>-0.88</td>\n",
              "    </tr>\n",
              "    <tr>\n",
              "      <th>2</th>\n",
              "      <td>3</td>\n",
              "      <td>2022-02-08T14:51:20.795Z</td>\n",
              "      <td>28.4</td>\n",
              "      <td>64.3</td>\n",
              "      <td>30.63</td>\n",
              "      <td>101067</td>\n",
              "      <td>21.75</td>\n",
              "      <td>4095</td>\n",
              "      <td>-0.99</td>\n",
              "    </tr>\n",
              "    <tr>\n",
              "      <th>3</th>\n",
              "      <td>4</td>\n",
              "      <td>2022-02-08T14:56:24.488Z</td>\n",
              "      <td>28.4</td>\n",
              "      <td>66</td>\n",
              "      <td>30.87</td>\n",
              "      <td>101069</td>\n",
              "      <td>21.09</td>\n",
              "      <td>0</td>\n",
              "      <td>-0.64</td>\n",
              "    </tr>\n",
              "    <tr>\n",
              "      <th>4</th>\n",
              "      <td>5</td>\n",
              "      <td>2022-02-08T15:01:28.189Z</td>\n",
              "      <td>28.1</td>\n",
              "      <td>65.2</td>\n",
              "      <td>30.23</td>\n",
              "      <td>101073</td>\n",
              "      <td>20.84</td>\n",
              "      <td>13</td>\n",
              "      <td>-0.68</td>\n",
              "    </tr>\n",
              "    <tr>\n",
              "      <th>...</th>\n",
              "      <td>...</td>\n",
              "      <td>...</td>\n",
              "      <td>...</td>\n",
              "      <td>...</td>\n",
              "      <td>...</td>\n",
              "      <td>...</td>\n",
              "      <td>...</td>\n",
              "      <td>...</td>\n",
              "      <td>...</td>\n",
              "    </tr>\n",
              "    <tr>\n",
              "      <th>1062</th>\n",
              "      <td>1063</td>\n",
              "      <td>2022-03-17T07:07:03.292Z</td>\n",
              "      <td>31.9</td>\n",
              "      <td>53.7</td>\n",
              "      <td>35.09</td>\n",
              "      <td>100465</td>\n",
              "      <td>72.18</td>\n",
              "      <td>243</td>\n",
              "      <td>1.14</td>\n",
              "    </tr>\n",
              "    <tr>\n",
              "      <th>1063</th>\n",
              "      <td>1064</td>\n",
              "      <td>2022-03-17T07:12:06.787Z</td>\n",
              "      <td>31.9</td>\n",
              "      <td>53.3</td>\n",
              "      <td>34.99</td>\n",
              "      <td>100457</td>\n",
              "      <td>72.77</td>\n",
              "      <td>240</td>\n",
              "      <td>1.16</td>\n",
              "    </tr>\n",
              "    <tr>\n",
              "      <th>1064</th>\n",
              "      <td>1065</td>\n",
              "      <td>2022-03-17T07:17:10.583Z</td>\n",
              "      <td>32.9</td>\n",
              "      <td>52.4</td>\n",
              "      <td>36.79</td>\n",
              "      <td>100444</td>\n",
              "      <td>73.36</td>\n",
              "      <td>252</td>\n",
              "      <td>1.17</td>\n",
              "    </tr>\n",
              "    <tr>\n",
              "      <th>1065</th>\n",
              "      <td>1066</td>\n",
              "      <td>2022-03-17T07:22:14.088Z</td>\n",
              "      <td>33.6</td>\n",
              "      <td>51</td>\n",
              "      <td>37.85</td>\n",
              "      <td>100446</td>\n",
              "      <td>73.11</td>\n",
              "      <td>240</td>\n",
              "      <td>1.18</td>\n",
              "    </tr>\n",
              "    <tr>\n",
              "      <th>1066</th>\n",
              "      <td>1067</td>\n",
              "      <td>2022-03-17T07:27:17.666Z</td>\n",
              "      <td>33.9</td>\n",
              "      <td>51.2</td>\n",
              "      <td>38.58</td>\n",
              "      <td>100432</td>\n",
              "      <td>74.78</td>\n",
              "      <td>251</td>\n",
              "      <td>1.19</td>\n",
              "    </tr>\n",
              "  </tbody>\n",
              "</table>\n",
              "<p>1067 rows × 9 columns</p>\n",
              "</div>\n",
              "      <button class=\"colab-df-convert\" onclick=\"convertToInteractive('df-37787ba4-f4dc-4b51-b10a-5bb193179e1c')\"\n",
              "              title=\"Convert this dataframe to an interactive table.\"\n",
              "              style=\"display:none;\">\n",
              "        \n",
              "  <svg xmlns=\"http://www.w3.org/2000/svg\" height=\"24px\"viewBox=\"0 0 24 24\"\n",
              "       width=\"24px\">\n",
              "    <path d=\"M0 0h24v24H0V0z\" fill=\"none\"/>\n",
              "    <path d=\"M18.56 5.44l.94 2.06.94-2.06 2.06-.94-2.06-.94-.94-2.06-.94 2.06-2.06.94zm-11 1L8.5 8.5l.94-2.06 2.06-.94-2.06-.94L8.5 2.5l-.94 2.06-2.06.94zm10 10l.94 2.06.94-2.06 2.06-.94-2.06-.94-.94-2.06-.94 2.06-2.06.94z\"/><path d=\"M17.41 7.96l-1.37-1.37c-.4-.4-.92-.59-1.43-.59-.52 0-1.04.2-1.43.59L10.3 9.45l-7.72 7.72c-.78.78-.78 2.05 0 2.83L4 21.41c.39.39.9.59 1.41.59.51 0 1.02-.2 1.41-.59l7.78-7.78 2.81-2.81c.8-.78.8-2.07 0-2.86zM5.41 20L4 18.59l7.72-7.72 1.47 1.35L5.41 20z\"/>\n",
              "  </svg>\n",
              "      </button>\n",
              "      \n",
              "  <style>\n",
              "    .colab-df-container {\n",
              "      display:flex;\n",
              "      flex-wrap:wrap;\n",
              "      gap: 12px;\n",
              "    }\n",
              "\n",
              "    .colab-df-convert {\n",
              "      background-color: #E8F0FE;\n",
              "      border: none;\n",
              "      border-radius: 50%;\n",
              "      cursor: pointer;\n",
              "      display: none;\n",
              "      fill: #1967D2;\n",
              "      height: 32px;\n",
              "      padding: 0 0 0 0;\n",
              "      width: 32px;\n",
              "    }\n",
              "\n",
              "    .colab-df-convert:hover {\n",
              "      background-color: #E2EBFA;\n",
              "      box-shadow: 0px 1px 2px rgba(60, 64, 67, 0.3), 0px 1px 3px 1px rgba(60, 64, 67, 0.15);\n",
              "      fill: #174EA6;\n",
              "    }\n",
              "\n",
              "    [theme=dark] .colab-df-convert {\n",
              "      background-color: #3B4455;\n",
              "      fill: #D2E3FC;\n",
              "    }\n",
              "\n",
              "    [theme=dark] .colab-df-convert:hover {\n",
              "      background-color: #434B5C;\n",
              "      box-shadow: 0px 1px 3px 1px rgba(0, 0, 0, 0.15);\n",
              "      filter: drop-shadow(0px 1px 2px rgba(0, 0, 0, 0.3));\n",
              "      fill: #FFFFFF;\n",
              "    }\n",
              "  </style>\n",
              "\n",
              "      <script>\n",
              "        const buttonEl =\n",
              "          document.querySelector('#df-37787ba4-f4dc-4b51-b10a-5bb193179e1c button.colab-df-convert');\n",
              "        buttonEl.style.display =\n",
              "          google.colab.kernel.accessAllowed ? 'block' : 'none';\n",
              "\n",
              "        async function convertToInteractive(key) {\n",
              "          const element = document.querySelector('#df-37787ba4-f4dc-4b51-b10a-5bb193179e1c');\n",
              "          const dataTable =\n",
              "            await google.colab.kernel.invokeFunction('convertToInteractive',\n",
              "                                                     [key], {});\n",
              "          if (!dataTable) return;\n",
              "\n",
              "          const docLinkHtml = 'Like what you see? Visit the ' +\n",
              "            '<a target=\"_blank\" href=https://colab.research.google.com/notebooks/data_table.ipynb>data table notebook</a>'\n",
              "            + ' to learn more about interactive tables.';\n",
              "          element.innerHTML = '';\n",
              "          dataTable['output_type'] = 'display_data';\n",
              "          await google.colab.output.renderOutput(dataTable, element);\n",
              "          const docLink = document.createElement('div');\n",
              "          docLink.innerHTML = docLinkHtml;\n",
              "          element.appendChild(docLink);\n",
              "        }\n",
              "      </script>\n",
              "    </div>\n",
              "  </div>\n",
              "  "
            ]
          },
          "metadata": {},
          "execution_count": 6
        }
      ]
    },
    {
      "cell_type": "markdown",
      "source": [
        "###Data Preparation and Cleaning"
      ],
      "metadata": {
        "id": "aJph9eR6g0Y9"
      }
    },
    {
      "cell_type": "code",
      "source": [
        "# convert the json to dataframe\n",
        "records_df = pd.DataFrame.from_dict(records)\n",
        "\n",
        "# view the top records\n",
        "records_df"
      ],
      "metadata": {
        "colab": {
          "base_uri": "https://localhost:8080/",
          "height": 423
        },
        "id": "cIspA8s-PUoy",
        "outputId": "fab262c5-c1fd-4aec-fd04-d5c32cbfd27c"
      },
      "execution_count": null,
      "outputs": [
        {
          "output_type": "execute_result",
          "data": {
            "text/plain": [
              "      Entry No.             Date and Time temperature (C) humidity (%)  \\\n",
              "0             1  2022-02-08T14:50:05.894Z            nan          nan    \n",
              "1             2  2022-02-08T14:50:50.935Z            28.4           67   \n",
              "2             3  2022-02-08T14:51:20.795Z            28.4         64.3   \n",
              "3             4  2022-02-08T14:56:24.488Z            28.4           66   \n",
              "4             5  2022-02-08T15:01:28.189Z            28.1         65.2   \n",
              "...         ...                       ...             ...          ...   \n",
              "1062       1063  2022-03-17T07:07:03.292Z            31.9         53.7   \n",
              "1063       1064  2022-03-17T07:12:06.787Z            31.9         53.3   \n",
              "1064       1065  2022-03-17T07:17:10.583Z            32.9         52.4   \n",
              "1065       1066  2022-03-17T07:22:14.088Z            33.6           51   \n",
              "1066       1067  2022-03-17T07:27:17.666Z            33.9         51.2   \n",
              "\n",
              "     heat index (C)  pressure (Pa)  altitude (m)  lightDensity (V)  \\\n",
              "0              nan          101070         21.25              4095   \n",
              "1             31.01         101067         21.42              4095   \n",
              "2             30.63         101067         21.75              4095   \n",
              "3             30.87         101069         21.09                 0   \n",
              "4             30.23         101073         20.84                13   \n",
              "...             ...            ...           ...               ...   \n",
              "1062          35.09         100465         72.18               243   \n",
              "1063          34.99         100457         72.77               240   \n",
              "1064          36.79         100444         73.36               252   \n",
              "1065          37.85         100446         73.11               240   \n",
              "1066          38.58         100432         74.78               251   \n",
              "\n",
              "      UV Intensity (mW/cm^2)  \n",
              "0                      -0.79  \n",
              "1                      -0.88  \n",
              "2                      -0.99  \n",
              "3                      -0.64  \n",
              "4                      -0.68  \n",
              "...                      ...  \n",
              "1062                    1.14  \n",
              "1063                    1.16  \n",
              "1064                    1.17  \n",
              "1065                    1.18  \n",
              "1066                    1.19  \n",
              "\n",
              "[1067 rows x 9 columns]"
            ],
            "text/html": [
              "\n",
              "  <div id=\"df-dc8fcafb-0899-41ea-bd8b-ea17bd0fe386\">\n",
              "    <div class=\"colab-df-container\">\n",
              "      <div>\n",
              "<style scoped>\n",
              "    .dataframe tbody tr th:only-of-type {\n",
              "        vertical-align: middle;\n",
              "    }\n",
              "\n",
              "    .dataframe tbody tr th {\n",
              "        vertical-align: top;\n",
              "    }\n",
              "\n",
              "    .dataframe thead th {\n",
              "        text-align: right;\n",
              "    }\n",
              "</style>\n",
              "<table border=\"1\" class=\"dataframe\">\n",
              "  <thead>\n",
              "    <tr style=\"text-align: right;\">\n",
              "      <th></th>\n",
              "      <th>Entry No.</th>\n",
              "      <th>Date and Time</th>\n",
              "      <th>temperature (C)</th>\n",
              "      <th>humidity (%)</th>\n",
              "      <th>heat index (C)</th>\n",
              "      <th>pressure (Pa)</th>\n",
              "      <th>altitude (m)</th>\n",
              "      <th>lightDensity (V)</th>\n",
              "      <th>UV Intensity (mW/cm^2)</th>\n",
              "    </tr>\n",
              "  </thead>\n",
              "  <tbody>\n",
              "    <tr>\n",
              "      <th>0</th>\n",
              "      <td>1</td>\n",
              "      <td>2022-02-08T14:50:05.894Z</td>\n",
              "      <td>nan</td>\n",
              "      <td>nan</td>\n",
              "      <td>nan</td>\n",
              "      <td>101070</td>\n",
              "      <td>21.25</td>\n",
              "      <td>4095</td>\n",
              "      <td>-0.79</td>\n",
              "    </tr>\n",
              "    <tr>\n",
              "      <th>1</th>\n",
              "      <td>2</td>\n",
              "      <td>2022-02-08T14:50:50.935Z</td>\n",
              "      <td>28.4</td>\n",
              "      <td>67</td>\n",
              "      <td>31.01</td>\n",
              "      <td>101067</td>\n",
              "      <td>21.42</td>\n",
              "      <td>4095</td>\n",
              "      <td>-0.88</td>\n",
              "    </tr>\n",
              "    <tr>\n",
              "      <th>2</th>\n",
              "      <td>3</td>\n",
              "      <td>2022-02-08T14:51:20.795Z</td>\n",
              "      <td>28.4</td>\n",
              "      <td>64.3</td>\n",
              "      <td>30.63</td>\n",
              "      <td>101067</td>\n",
              "      <td>21.75</td>\n",
              "      <td>4095</td>\n",
              "      <td>-0.99</td>\n",
              "    </tr>\n",
              "    <tr>\n",
              "      <th>3</th>\n",
              "      <td>4</td>\n",
              "      <td>2022-02-08T14:56:24.488Z</td>\n",
              "      <td>28.4</td>\n",
              "      <td>66</td>\n",
              "      <td>30.87</td>\n",
              "      <td>101069</td>\n",
              "      <td>21.09</td>\n",
              "      <td>0</td>\n",
              "      <td>-0.64</td>\n",
              "    </tr>\n",
              "    <tr>\n",
              "      <th>4</th>\n",
              "      <td>5</td>\n",
              "      <td>2022-02-08T15:01:28.189Z</td>\n",
              "      <td>28.1</td>\n",
              "      <td>65.2</td>\n",
              "      <td>30.23</td>\n",
              "      <td>101073</td>\n",
              "      <td>20.84</td>\n",
              "      <td>13</td>\n",
              "      <td>-0.68</td>\n",
              "    </tr>\n",
              "    <tr>\n",
              "      <th>...</th>\n",
              "      <td>...</td>\n",
              "      <td>...</td>\n",
              "      <td>...</td>\n",
              "      <td>...</td>\n",
              "      <td>...</td>\n",
              "      <td>...</td>\n",
              "      <td>...</td>\n",
              "      <td>...</td>\n",
              "      <td>...</td>\n",
              "    </tr>\n",
              "    <tr>\n",
              "      <th>1062</th>\n",
              "      <td>1063</td>\n",
              "      <td>2022-03-17T07:07:03.292Z</td>\n",
              "      <td>31.9</td>\n",
              "      <td>53.7</td>\n",
              "      <td>35.09</td>\n",
              "      <td>100465</td>\n",
              "      <td>72.18</td>\n",
              "      <td>243</td>\n",
              "      <td>1.14</td>\n",
              "    </tr>\n",
              "    <tr>\n",
              "      <th>1063</th>\n",
              "      <td>1064</td>\n",
              "      <td>2022-03-17T07:12:06.787Z</td>\n",
              "      <td>31.9</td>\n",
              "      <td>53.3</td>\n",
              "      <td>34.99</td>\n",
              "      <td>100457</td>\n",
              "      <td>72.77</td>\n",
              "      <td>240</td>\n",
              "      <td>1.16</td>\n",
              "    </tr>\n",
              "    <tr>\n",
              "      <th>1064</th>\n",
              "      <td>1065</td>\n",
              "      <td>2022-03-17T07:17:10.583Z</td>\n",
              "      <td>32.9</td>\n",
              "      <td>52.4</td>\n",
              "      <td>36.79</td>\n",
              "      <td>100444</td>\n",
              "      <td>73.36</td>\n",
              "      <td>252</td>\n",
              "      <td>1.17</td>\n",
              "    </tr>\n",
              "    <tr>\n",
              "      <th>1065</th>\n",
              "      <td>1066</td>\n",
              "      <td>2022-03-17T07:22:14.088Z</td>\n",
              "      <td>33.6</td>\n",
              "      <td>51</td>\n",
              "      <td>37.85</td>\n",
              "      <td>100446</td>\n",
              "      <td>73.11</td>\n",
              "      <td>240</td>\n",
              "      <td>1.18</td>\n",
              "    </tr>\n",
              "    <tr>\n",
              "      <th>1066</th>\n",
              "      <td>1067</td>\n",
              "      <td>2022-03-17T07:27:17.666Z</td>\n",
              "      <td>33.9</td>\n",
              "      <td>51.2</td>\n",
              "      <td>38.58</td>\n",
              "      <td>100432</td>\n",
              "      <td>74.78</td>\n",
              "      <td>251</td>\n",
              "      <td>1.19</td>\n",
              "    </tr>\n",
              "  </tbody>\n",
              "</table>\n",
              "<p>1067 rows × 9 columns</p>\n",
              "</div>\n",
              "      <button class=\"colab-df-convert\" onclick=\"convertToInteractive('df-dc8fcafb-0899-41ea-bd8b-ea17bd0fe386')\"\n",
              "              title=\"Convert this dataframe to an interactive table.\"\n",
              "              style=\"display:none;\">\n",
              "        \n",
              "  <svg xmlns=\"http://www.w3.org/2000/svg\" height=\"24px\"viewBox=\"0 0 24 24\"\n",
              "       width=\"24px\">\n",
              "    <path d=\"M0 0h24v24H0V0z\" fill=\"none\"/>\n",
              "    <path d=\"M18.56 5.44l.94 2.06.94-2.06 2.06-.94-2.06-.94-.94-2.06-.94 2.06-2.06.94zm-11 1L8.5 8.5l.94-2.06 2.06-.94-2.06-.94L8.5 2.5l-.94 2.06-2.06.94zm10 10l.94 2.06.94-2.06 2.06-.94-2.06-.94-.94-2.06-.94 2.06-2.06.94z\"/><path d=\"M17.41 7.96l-1.37-1.37c-.4-.4-.92-.59-1.43-.59-.52 0-1.04.2-1.43.59L10.3 9.45l-7.72 7.72c-.78.78-.78 2.05 0 2.83L4 21.41c.39.39.9.59 1.41.59.51 0 1.02-.2 1.41-.59l7.78-7.78 2.81-2.81c.8-.78.8-2.07 0-2.86zM5.41 20L4 18.59l7.72-7.72 1.47 1.35L5.41 20z\"/>\n",
              "  </svg>\n",
              "      </button>\n",
              "      \n",
              "  <style>\n",
              "    .colab-df-container {\n",
              "      display:flex;\n",
              "      flex-wrap:wrap;\n",
              "      gap: 12px;\n",
              "    }\n",
              "\n",
              "    .colab-df-convert {\n",
              "      background-color: #E8F0FE;\n",
              "      border: none;\n",
              "      border-radius: 50%;\n",
              "      cursor: pointer;\n",
              "      display: none;\n",
              "      fill: #1967D2;\n",
              "      height: 32px;\n",
              "      padding: 0 0 0 0;\n",
              "      width: 32px;\n",
              "    }\n",
              "\n",
              "    .colab-df-convert:hover {\n",
              "      background-color: #E2EBFA;\n",
              "      box-shadow: 0px 1px 2px rgba(60, 64, 67, 0.3), 0px 1px 3px 1px rgba(60, 64, 67, 0.15);\n",
              "      fill: #174EA6;\n",
              "    }\n",
              "\n",
              "    [theme=dark] .colab-df-convert {\n",
              "      background-color: #3B4455;\n",
              "      fill: #D2E3FC;\n",
              "    }\n",
              "\n",
              "    [theme=dark] .colab-df-convert:hover {\n",
              "      background-color: #434B5C;\n",
              "      box-shadow: 0px 1px 3px 1px rgba(0, 0, 0, 0.15);\n",
              "      filter: drop-shadow(0px 1px 2px rgba(0, 0, 0, 0.3));\n",
              "      fill: #FFFFFF;\n",
              "    }\n",
              "  </style>\n",
              "\n",
              "      <script>\n",
              "        const buttonEl =\n",
              "          document.querySelector('#df-dc8fcafb-0899-41ea-bd8b-ea17bd0fe386 button.colab-df-convert');\n",
              "        buttonEl.style.display =\n",
              "          google.colab.kernel.accessAllowed ? 'block' : 'none';\n",
              "\n",
              "        async function convertToInteractive(key) {\n",
              "          const element = document.querySelector('#df-dc8fcafb-0899-41ea-bd8b-ea17bd0fe386');\n",
              "          const dataTable =\n",
              "            await google.colab.kernel.invokeFunction('convertToInteractive',\n",
              "                                                     [key], {});\n",
              "          if (!dataTable) return;\n",
              "\n",
              "          const docLinkHtml = 'Like what you see? Visit the ' +\n",
              "            '<a target=\"_blank\" href=https://colab.research.google.com/notebooks/data_table.ipynb>data table notebook</a>'\n",
              "            + ' to learn more about interactive tables.';\n",
              "          element.innerHTML = '';\n",
              "          dataTable['output_type'] = 'display_data';\n",
              "          await google.colab.output.renderOutput(dataTable, element);\n",
              "          const docLink = document.createElement('div');\n",
              "          docLink.innerHTML = docLinkHtml;\n",
              "          element.appendChild(docLink);\n",
              "        }\n",
              "      </script>\n",
              "    </div>\n",
              "  </div>\n",
              "  "
            ]
          },
          "metadata": {},
          "execution_count": 8
        }
      ]
    },
    {
      "cell_type": "code",
      "source": [
        "records_df.columns"
      ],
      "metadata": {
        "colab": {
          "base_uri": "https://localhost:8080/"
        },
        "id": "kEEznfVEPX7W",
        "outputId": "68344e7d-f563-4bc6-defb-642915358119"
      },
      "execution_count": null,
      "outputs": [
        {
          "output_type": "execute_result",
          "data": {
            "text/plain": [
              "Index(['Entry No.', 'Date and Time', 'temperature (C)', 'humidity (%)',\n",
              "       'heat index (C)', 'pressure (Pa)', 'altitude (m)', 'lightDensity (V)',\n",
              "       'UV Intensity (mW/cm^2)'],\n",
              "      dtype='object')"
            ]
          },
          "metadata": {},
          "execution_count": 9
        }
      ]
    },
    {
      "cell_type": "code",
      "source": [
        "selected_columns = ['Date and Time', 'temperature (C)', 'humidity (%)',\n",
        "       'heat index (C)', 'pressure (Pa)', 'altitude (m)', 'lightDensity (V)',\n",
        "       'UV Intensity (mW/cm^2)']\n",
        "\n",
        "len(selected_columns)"
      ],
      "metadata": {
        "id": "b37yM5PSPiee",
        "colab": {
          "base_uri": "https://localhost:8080/"
        },
        "outputId": "1ef2d38a-32eb-443d-961b-8bf23faad172"
      },
      "execution_count": null,
      "outputs": [
        {
          "output_type": "execute_result",
          "data": {
            "text/plain": [
              "8"
            ]
          },
          "metadata": {},
          "execution_count": 10
        }
      ]
    },
    {
      "cell_type": "markdown",
      "source": [
        "Extracting a copy of the data from these columns into a new data frame weather_df, which we can continue to modify further without affecting the original data frame."
      ],
      "metadata": {
        "id": "t9Q18PK1hOcE"
      }
    },
    {
      "cell_type": "code",
      "source": [
        "weather_df = records_df[selected_columns].copy()\n",
        "weather_df.dropna(inplace=True)\n",
        "weather_df.shape"
      ],
      "metadata": {
        "colab": {
          "base_uri": "https://localhost:8080/"
        },
        "id": "ISMwyP5QhLND",
        "outputId": "a15647f6-d851-471e-b19a-753d8283e00b"
      },
      "execution_count": null,
      "outputs": [
        {
          "output_type": "execute_result",
          "data": {
            "text/plain": [
              "(1067, 8)"
            ]
          },
          "metadata": {},
          "execution_count": 11
        }
      ]
    },
    {
      "cell_type": "code",
      "source": [
        "weather_df.info()"
      ],
      "metadata": {
        "colab": {
          "base_uri": "https://localhost:8080/"
        },
        "id": "II5zDdKYhaEm",
        "outputId": "2994313e-4904-4e5a-93ce-319aa0a3d0cb"
      },
      "execution_count": null,
      "outputs": [
        {
          "output_type": "stream",
          "name": "stdout",
          "text": [
            "<class 'pandas.core.frame.DataFrame'>\n",
            "Int64Index: 1067 entries, 0 to 1066\n",
            "Data columns (total 8 columns):\n",
            " #   Column                  Non-Null Count  Dtype  \n",
            "---  ------                  --------------  -----  \n",
            " 0   Date and Time           1067 non-null   object \n",
            " 1   temperature (C)         1067 non-null   object \n",
            " 2   humidity (%)            1067 non-null   object \n",
            " 3   heat index (C)          1067 non-null   object \n",
            " 4   pressure (Pa)           1067 non-null   int64  \n",
            " 5   altitude (m)            1067 non-null   float64\n",
            " 6   lightDensity (V)        1067 non-null   int64  \n",
            " 7   UV Intensity (mW/cm^2)  1067 non-null   float64\n",
            "dtypes: float64(2), int64(2), object(4)\n",
            "memory usage: 75.0+ KB\n"
          ]
        }
      ]
    },
    {
      "cell_type": "markdown",
      "source": [
        "The sensor data we have is observed to be of data type `float` but is recognised as `object`. \n",
        "\n",
        "We'll need to adjust the data type for each column on a case-by-case basis.\n",
        "\n",
        "Here, we can change all required columns to `float` in one go."
      ],
      "metadata": {
        "id": "MI4aaCrYjeny"
      }
    },
    {
      "cell_type": "markdown",
      "source": [
        "> Slicing the required columns from complete df"
      ],
      "metadata": {
        "id": "4hMbdmGSpqI5"
      }
    },
    {
      "cell_type": "code",
      "source": [
        "weather_df.iloc[:,1:]"
      ],
      "metadata": {
        "colab": {
          "base_uri": "https://localhost:8080/",
          "height": 423
        },
        "id": "FKmRGD_Kh9v6",
        "outputId": "0002dace-5717-4f8c-f5df-264957c9bac3"
      },
      "execution_count": null,
      "outputs": [
        {
          "output_type": "execute_result",
          "data": {
            "text/plain": [
              "     temperature (C) humidity (%) heat index (C)  pressure (Pa)  altitude (m)  \\\n",
              "0               nan          nan            nan          101070         21.25   \n",
              "1               28.4           67          31.01         101067         21.42   \n",
              "2               28.4         64.3          30.63         101067         21.75   \n",
              "3               28.4           66          30.87         101069         21.09   \n",
              "4               28.1         65.2          30.23         101073         20.84   \n",
              "...              ...          ...            ...            ...           ...   \n",
              "1062            31.9         53.7          35.09         100465         72.18   \n",
              "1063            31.9         53.3          34.99         100457         72.77   \n",
              "1064            32.9         52.4          36.79         100444         73.36   \n",
              "1065            33.6           51          37.85         100446         73.11   \n",
              "1066            33.9         51.2          38.58         100432         74.78   \n",
              "\n",
              "      lightDensity (V)  UV Intensity (mW/cm^2)  \n",
              "0                 4095                   -0.79  \n",
              "1                 4095                   -0.88  \n",
              "2                 4095                   -0.99  \n",
              "3                    0                   -0.64  \n",
              "4                   13                   -0.68  \n",
              "...                ...                     ...  \n",
              "1062               243                    1.14  \n",
              "1063               240                    1.16  \n",
              "1064               252                    1.17  \n",
              "1065               240                    1.18  \n",
              "1066               251                    1.19  \n",
              "\n",
              "[1067 rows x 7 columns]"
            ],
            "text/html": [
              "\n",
              "  <div id=\"df-db3fa7d8-4450-4b7a-9b95-43b1b2513e21\">\n",
              "    <div class=\"colab-df-container\">\n",
              "      <div>\n",
              "<style scoped>\n",
              "    .dataframe tbody tr th:only-of-type {\n",
              "        vertical-align: middle;\n",
              "    }\n",
              "\n",
              "    .dataframe tbody tr th {\n",
              "        vertical-align: top;\n",
              "    }\n",
              "\n",
              "    .dataframe thead th {\n",
              "        text-align: right;\n",
              "    }\n",
              "</style>\n",
              "<table border=\"1\" class=\"dataframe\">\n",
              "  <thead>\n",
              "    <tr style=\"text-align: right;\">\n",
              "      <th></th>\n",
              "      <th>temperature (C)</th>\n",
              "      <th>humidity (%)</th>\n",
              "      <th>heat index (C)</th>\n",
              "      <th>pressure (Pa)</th>\n",
              "      <th>altitude (m)</th>\n",
              "      <th>lightDensity (V)</th>\n",
              "      <th>UV Intensity (mW/cm^2)</th>\n",
              "    </tr>\n",
              "  </thead>\n",
              "  <tbody>\n",
              "    <tr>\n",
              "      <th>0</th>\n",
              "      <td>nan</td>\n",
              "      <td>nan</td>\n",
              "      <td>nan</td>\n",
              "      <td>101070</td>\n",
              "      <td>21.25</td>\n",
              "      <td>4095</td>\n",
              "      <td>-0.79</td>\n",
              "    </tr>\n",
              "    <tr>\n",
              "      <th>1</th>\n",
              "      <td>28.4</td>\n",
              "      <td>67</td>\n",
              "      <td>31.01</td>\n",
              "      <td>101067</td>\n",
              "      <td>21.42</td>\n",
              "      <td>4095</td>\n",
              "      <td>-0.88</td>\n",
              "    </tr>\n",
              "    <tr>\n",
              "      <th>2</th>\n",
              "      <td>28.4</td>\n",
              "      <td>64.3</td>\n",
              "      <td>30.63</td>\n",
              "      <td>101067</td>\n",
              "      <td>21.75</td>\n",
              "      <td>4095</td>\n",
              "      <td>-0.99</td>\n",
              "    </tr>\n",
              "    <tr>\n",
              "      <th>3</th>\n",
              "      <td>28.4</td>\n",
              "      <td>66</td>\n",
              "      <td>30.87</td>\n",
              "      <td>101069</td>\n",
              "      <td>21.09</td>\n",
              "      <td>0</td>\n",
              "      <td>-0.64</td>\n",
              "    </tr>\n",
              "    <tr>\n",
              "      <th>4</th>\n",
              "      <td>28.1</td>\n",
              "      <td>65.2</td>\n",
              "      <td>30.23</td>\n",
              "      <td>101073</td>\n",
              "      <td>20.84</td>\n",
              "      <td>13</td>\n",
              "      <td>-0.68</td>\n",
              "    </tr>\n",
              "    <tr>\n",
              "      <th>...</th>\n",
              "      <td>...</td>\n",
              "      <td>...</td>\n",
              "      <td>...</td>\n",
              "      <td>...</td>\n",
              "      <td>...</td>\n",
              "      <td>...</td>\n",
              "      <td>...</td>\n",
              "    </tr>\n",
              "    <tr>\n",
              "      <th>1062</th>\n",
              "      <td>31.9</td>\n",
              "      <td>53.7</td>\n",
              "      <td>35.09</td>\n",
              "      <td>100465</td>\n",
              "      <td>72.18</td>\n",
              "      <td>243</td>\n",
              "      <td>1.14</td>\n",
              "    </tr>\n",
              "    <tr>\n",
              "      <th>1063</th>\n",
              "      <td>31.9</td>\n",
              "      <td>53.3</td>\n",
              "      <td>34.99</td>\n",
              "      <td>100457</td>\n",
              "      <td>72.77</td>\n",
              "      <td>240</td>\n",
              "      <td>1.16</td>\n",
              "    </tr>\n",
              "    <tr>\n",
              "      <th>1064</th>\n",
              "      <td>32.9</td>\n",
              "      <td>52.4</td>\n",
              "      <td>36.79</td>\n",
              "      <td>100444</td>\n",
              "      <td>73.36</td>\n",
              "      <td>252</td>\n",
              "      <td>1.17</td>\n",
              "    </tr>\n",
              "    <tr>\n",
              "      <th>1065</th>\n",
              "      <td>33.6</td>\n",
              "      <td>51</td>\n",
              "      <td>37.85</td>\n",
              "      <td>100446</td>\n",
              "      <td>73.11</td>\n",
              "      <td>240</td>\n",
              "      <td>1.18</td>\n",
              "    </tr>\n",
              "    <tr>\n",
              "      <th>1066</th>\n",
              "      <td>33.9</td>\n",
              "      <td>51.2</td>\n",
              "      <td>38.58</td>\n",
              "      <td>100432</td>\n",
              "      <td>74.78</td>\n",
              "      <td>251</td>\n",
              "      <td>1.19</td>\n",
              "    </tr>\n",
              "  </tbody>\n",
              "</table>\n",
              "<p>1067 rows × 7 columns</p>\n",
              "</div>\n",
              "      <button class=\"colab-df-convert\" onclick=\"convertToInteractive('df-db3fa7d8-4450-4b7a-9b95-43b1b2513e21')\"\n",
              "              title=\"Convert this dataframe to an interactive table.\"\n",
              "              style=\"display:none;\">\n",
              "        \n",
              "  <svg xmlns=\"http://www.w3.org/2000/svg\" height=\"24px\"viewBox=\"0 0 24 24\"\n",
              "       width=\"24px\">\n",
              "    <path d=\"M0 0h24v24H0V0z\" fill=\"none\"/>\n",
              "    <path d=\"M18.56 5.44l.94 2.06.94-2.06 2.06-.94-2.06-.94-.94-2.06-.94 2.06-2.06.94zm-11 1L8.5 8.5l.94-2.06 2.06-.94-2.06-.94L8.5 2.5l-.94 2.06-2.06.94zm10 10l.94 2.06.94-2.06 2.06-.94-2.06-.94-.94-2.06-.94 2.06-2.06.94z\"/><path d=\"M17.41 7.96l-1.37-1.37c-.4-.4-.92-.59-1.43-.59-.52 0-1.04.2-1.43.59L10.3 9.45l-7.72 7.72c-.78.78-.78 2.05 0 2.83L4 21.41c.39.39.9.59 1.41.59.51 0 1.02-.2 1.41-.59l7.78-7.78 2.81-2.81c.8-.78.8-2.07 0-2.86zM5.41 20L4 18.59l7.72-7.72 1.47 1.35L5.41 20z\"/>\n",
              "  </svg>\n",
              "      </button>\n",
              "      \n",
              "  <style>\n",
              "    .colab-df-container {\n",
              "      display:flex;\n",
              "      flex-wrap:wrap;\n",
              "      gap: 12px;\n",
              "    }\n",
              "\n",
              "    .colab-df-convert {\n",
              "      background-color: #E8F0FE;\n",
              "      border: none;\n",
              "      border-radius: 50%;\n",
              "      cursor: pointer;\n",
              "      display: none;\n",
              "      fill: #1967D2;\n",
              "      height: 32px;\n",
              "      padding: 0 0 0 0;\n",
              "      width: 32px;\n",
              "    }\n",
              "\n",
              "    .colab-df-convert:hover {\n",
              "      background-color: #E2EBFA;\n",
              "      box-shadow: 0px 1px 2px rgba(60, 64, 67, 0.3), 0px 1px 3px 1px rgba(60, 64, 67, 0.15);\n",
              "      fill: #174EA6;\n",
              "    }\n",
              "\n",
              "    [theme=dark] .colab-df-convert {\n",
              "      background-color: #3B4455;\n",
              "      fill: #D2E3FC;\n",
              "    }\n",
              "\n",
              "    [theme=dark] .colab-df-convert:hover {\n",
              "      background-color: #434B5C;\n",
              "      box-shadow: 0px 1px 3px 1px rgba(0, 0, 0, 0.15);\n",
              "      filter: drop-shadow(0px 1px 2px rgba(0, 0, 0, 0.3));\n",
              "      fill: #FFFFFF;\n",
              "    }\n",
              "  </style>\n",
              "\n",
              "      <script>\n",
              "        const buttonEl =\n",
              "          document.querySelector('#df-db3fa7d8-4450-4b7a-9b95-43b1b2513e21 button.colab-df-convert');\n",
              "        buttonEl.style.display =\n",
              "          google.colab.kernel.accessAllowed ? 'block' : 'none';\n",
              "\n",
              "        async function convertToInteractive(key) {\n",
              "          const element = document.querySelector('#df-db3fa7d8-4450-4b7a-9b95-43b1b2513e21');\n",
              "          const dataTable =\n",
              "            await google.colab.kernel.invokeFunction('convertToInteractive',\n",
              "                                                     [key], {});\n",
              "          if (!dataTable) return;\n",
              "\n",
              "          const docLinkHtml = 'Like what you see? Visit the ' +\n",
              "            '<a target=\"_blank\" href=https://colab.research.google.com/notebooks/data_table.ipynb>data table notebook</a>'\n",
              "            + ' to learn more about interactive tables.';\n",
              "          element.innerHTML = '';\n",
              "          dataTable['output_type'] = 'display_data';\n",
              "          await google.colab.output.renderOutput(dataTable, element);\n",
              "          const docLink = document.createElement('div');\n",
              "          docLink.innerHTML = docLinkHtml;\n",
              "          element.appendChild(docLink);\n",
              "        }\n",
              "      </script>\n",
              "    </div>\n",
              "  </div>\n",
              "  "
            ]
          },
          "metadata": {},
          "execution_count": 13
        }
      ]
    },
    {
      "cell_type": "code",
      "source": [
        "weather_df.iloc[:,1:] = weather_df.iloc[:,1:].apply(pd.to_numeric, errors='coerce')\n",
        "weather_df.dropna(inplace=True)\n",
        "weather_df.info()"
      ],
      "metadata": {
        "colab": {
          "base_uri": "https://localhost:8080/"
        },
        "id": "crJ9kEbIgtG-",
        "outputId": "aa265d0f-627e-423e-c98a-72784fd8590a"
      },
      "execution_count": null,
      "outputs": [
        {
          "output_type": "stream",
          "name": "stdout",
          "text": [
            "<class 'pandas.core.frame.DataFrame'>\n",
            "Int64Index: 1064 entries, 1 to 1066\n",
            "Data columns (total 8 columns):\n",
            " #   Column                  Non-Null Count  Dtype  \n",
            "---  ------                  --------------  -----  \n",
            " 0   Date and Time           1064 non-null   object \n",
            " 1   temperature (C)         1064 non-null   float64\n",
            " 2   humidity (%)            1064 non-null   float64\n",
            " 3   heat index (C)          1064 non-null   float64\n",
            " 4   pressure (Pa)           1064 non-null   int64  \n",
            " 5   altitude (m)            1064 non-null   float64\n",
            " 6   lightDensity (V)        1064 non-null   int64  \n",
            " 7   UV Intensity (mW/cm^2)  1064 non-null   float64\n",
            "dtypes: float64(5), int64(2), object(1)\n",
            "memory usage: 74.8+ KB\n"
          ]
        }
      ]
    },
    {
      "cell_type": "markdown",
      "source": [
        "## Exploratory Data Analysis\n",
        "The dataframe is now examined for statistical parameters like mean, median, mode, standard deviation, variance, among others for each of the columns.\n"
      ],
      "metadata": {
        "id": "PlmeL9h219AK"
      }
    },
    {
      "cell_type": "code",
      "source": [
        "weather_df.describe()"
      ],
      "metadata": {
        "colab": {
          "base_uri": "https://localhost:8080/",
          "height": 300
        },
        "id": "aKHM4wZklpUH",
        "outputId": "6e09b6e3-32f1-435d-e25c-c0c44309e205"
      },
      "execution_count": null,
      "outputs": [
        {
          "output_type": "execute_result",
          "data": {
            "text/plain": [
              "       temperature (C)  humidity (%)  heat index (C)  pressure (Pa)  \\\n",
              "count      1064.000000   1064.000000      1064.00000    1064.000000   \n",
              "mean         28.844173     54.856673        30.30281  101488.956767   \n",
              "std           4.254609     11.612698         5.62907   10327.545741   \n",
              "min          20.200000     29.900000        20.50000  100152.000000   \n",
              "25%          26.175000     46.600000        26.98250  100702.750000   \n",
              "50%          29.200000     53.300000        30.23500  100861.000000   \n",
              "75%          31.200000     59.700000        33.12500  101032.250000   \n",
              "max          42.700000     85.900000        53.46000  269233.000000   \n",
              "\n",
              "       altitude (m)  lightDensity (V)  UV Intensity (mW/cm^2)  \n",
              "count   1064.000000       1064.000000             1064.000000  \n",
              "mean       6.314502       2291.834586               -0.048327  \n",
              "std      557.612123       1974.166549                1.107169  \n",
              "min    -9060.410000          0.000000               -0.990000  \n",
              "25%       24.487500         98.000000               -0.650000  \n",
              "50%       38.660000       4095.000000               -0.400000  \n",
              "75%       51.750000       4095.000000                0.020000  \n",
              "max       97.870000       4095.000000               19.140000  "
            ],
            "text/html": [
              "\n",
              "  <div id=\"df-b8283bc8-18c4-49e5-854c-6d9ffc320615\">\n",
              "    <div class=\"colab-df-container\">\n",
              "      <div>\n",
              "<style scoped>\n",
              "    .dataframe tbody tr th:only-of-type {\n",
              "        vertical-align: middle;\n",
              "    }\n",
              "\n",
              "    .dataframe tbody tr th {\n",
              "        vertical-align: top;\n",
              "    }\n",
              "\n",
              "    .dataframe thead th {\n",
              "        text-align: right;\n",
              "    }\n",
              "</style>\n",
              "<table border=\"1\" class=\"dataframe\">\n",
              "  <thead>\n",
              "    <tr style=\"text-align: right;\">\n",
              "      <th></th>\n",
              "      <th>temperature (C)</th>\n",
              "      <th>humidity (%)</th>\n",
              "      <th>heat index (C)</th>\n",
              "      <th>pressure (Pa)</th>\n",
              "      <th>altitude (m)</th>\n",
              "      <th>lightDensity (V)</th>\n",
              "      <th>UV Intensity (mW/cm^2)</th>\n",
              "    </tr>\n",
              "  </thead>\n",
              "  <tbody>\n",
              "    <tr>\n",
              "      <th>count</th>\n",
              "      <td>1064.000000</td>\n",
              "      <td>1064.000000</td>\n",
              "      <td>1064.00000</td>\n",
              "      <td>1064.000000</td>\n",
              "      <td>1064.000000</td>\n",
              "      <td>1064.000000</td>\n",
              "      <td>1064.000000</td>\n",
              "    </tr>\n",
              "    <tr>\n",
              "      <th>mean</th>\n",
              "      <td>28.844173</td>\n",
              "      <td>54.856673</td>\n",
              "      <td>30.30281</td>\n",
              "      <td>101488.956767</td>\n",
              "      <td>6.314502</td>\n",
              "      <td>2291.834586</td>\n",
              "      <td>-0.048327</td>\n",
              "    </tr>\n",
              "    <tr>\n",
              "      <th>std</th>\n",
              "      <td>4.254609</td>\n",
              "      <td>11.612698</td>\n",
              "      <td>5.62907</td>\n",
              "      <td>10327.545741</td>\n",
              "      <td>557.612123</td>\n",
              "      <td>1974.166549</td>\n",
              "      <td>1.107169</td>\n",
              "    </tr>\n",
              "    <tr>\n",
              "      <th>min</th>\n",
              "      <td>20.200000</td>\n",
              "      <td>29.900000</td>\n",
              "      <td>20.50000</td>\n",
              "      <td>100152.000000</td>\n",
              "      <td>-9060.410000</td>\n",
              "      <td>0.000000</td>\n",
              "      <td>-0.990000</td>\n",
              "    </tr>\n",
              "    <tr>\n",
              "      <th>25%</th>\n",
              "      <td>26.175000</td>\n",
              "      <td>46.600000</td>\n",
              "      <td>26.98250</td>\n",
              "      <td>100702.750000</td>\n",
              "      <td>24.487500</td>\n",
              "      <td>98.000000</td>\n",
              "      <td>-0.650000</td>\n",
              "    </tr>\n",
              "    <tr>\n",
              "      <th>50%</th>\n",
              "      <td>29.200000</td>\n",
              "      <td>53.300000</td>\n",
              "      <td>30.23500</td>\n",
              "      <td>100861.000000</td>\n",
              "      <td>38.660000</td>\n",
              "      <td>4095.000000</td>\n",
              "      <td>-0.400000</td>\n",
              "    </tr>\n",
              "    <tr>\n",
              "      <th>75%</th>\n",
              "      <td>31.200000</td>\n",
              "      <td>59.700000</td>\n",
              "      <td>33.12500</td>\n",
              "      <td>101032.250000</td>\n",
              "      <td>51.750000</td>\n",
              "      <td>4095.000000</td>\n",
              "      <td>0.020000</td>\n",
              "    </tr>\n",
              "    <tr>\n",
              "      <th>max</th>\n",
              "      <td>42.700000</td>\n",
              "      <td>85.900000</td>\n",
              "      <td>53.46000</td>\n",
              "      <td>269233.000000</td>\n",
              "      <td>97.870000</td>\n",
              "      <td>4095.000000</td>\n",
              "      <td>19.140000</td>\n",
              "    </tr>\n",
              "  </tbody>\n",
              "</table>\n",
              "</div>\n",
              "      <button class=\"colab-df-convert\" onclick=\"convertToInteractive('df-b8283bc8-18c4-49e5-854c-6d9ffc320615')\"\n",
              "              title=\"Convert this dataframe to an interactive table.\"\n",
              "              style=\"display:none;\">\n",
              "        \n",
              "  <svg xmlns=\"http://www.w3.org/2000/svg\" height=\"24px\"viewBox=\"0 0 24 24\"\n",
              "       width=\"24px\">\n",
              "    <path d=\"M0 0h24v24H0V0z\" fill=\"none\"/>\n",
              "    <path d=\"M18.56 5.44l.94 2.06.94-2.06 2.06-.94-2.06-.94-.94-2.06-.94 2.06-2.06.94zm-11 1L8.5 8.5l.94-2.06 2.06-.94-2.06-.94L8.5 2.5l-.94 2.06-2.06.94zm10 10l.94 2.06.94-2.06 2.06-.94-2.06-.94-.94-2.06-.94 2.06-2.06.94z\"/><path d=\"M17.41 7.96l-1.37-1.37c-.4-.4-.92-.59-1.43-.59-.52 0-1.04.2-1.43.59L10.3 9.45l-7.72 7.72c-.78.78-.78 2.05 0 2.83L4 21.41c.39.39.9.59 1.41.59.51 0 1.02-.2 1.41-.59l7.78-7.78 2.81-2.81c.8-.78.8-2.07 0-2.86zM5.41 20L4 18.59l7.72-7.72 1.47 1.35L5.41 20z\"/>\n",
              "  </svg>\n",
              "      </button>\n",
              "      \n",
              "  <style>\n",
              "    .colab-df-container {\n",
              "      display:flex;\n",
              "      flex-wrap:wrap;\n",
              "      gap: 12px;\n",
              "    }\n",
              "\n",
              "    .colab-df-convert {\n",
              "      background-color: #E8F0FE;\n",
              "      border: none;\n",
              "      border-radius: 50%;\n",
              "      cursor: pointer;\n",
              "      display: none;\n",
              "      fill: #1967D2;\n",
              "      height: 32px;\n",
              "      padding: 0 0 0 0;\n",
              "      width: 32px;\n",
              "    }\n",
              "\n",
              "    .colab-df-convert:hover {\n",
              "      background-color: #E2EBFA;\n",
              "      box-shadow: 0px 1px 2px rgba(60, 64, 67, 0.3), 0px 1px 3px 1px rgba(60, 64, 67, 0.15);\n",
              "      fill: #174EA6;\n",
              "    }\n",
              "\n",
              "    [theme=dark] .colab-df-convert {\n",
              "      background-color: #3B4455;\n",
              "      fill: #D2E3FC;\n",
              "    }\n",
              "\n",
              "    [theme=dark] .colab-df-convert:hover {\n",
              "      background-color: #434B5C;\n",
              "      box-shadow: 0px 1px 3px 1px rgba(0, 0, 0, 0.15);\n",
              "      filter: drop-shadow(0px 1px 2px rgba(0, 0, 0, 0.3));\n",
              "      fill: #FFFFFF;\n",
              "    }\n",
              "  </style>\n",
              "\n",
              "      <script>\n",
              "        const buttonEl =\n",
              "          document.querySelector('#df-b8283bc8-18c4-49e5-854c-6d9ffc320615 button.colab-df-convert');\n",
              "        buttonEl.style.display =\n",
              "          google.colab.kernel.accessAllowed ? 'block' : 'none';\n",
              "\n",
              "        async function convertToInteractive(key) {\n",
              "          const element = document.querySelector('#df-b8283bc8-18c4-49e5-854c-6d9ffc320615');\n",
              "          const dataTable =\n",
              "            await google.colab.kernel.invokeFunction('convertToInteractive',\n",
              "                                                     [key], {});\n",
              "          if (!dataTable) return;\n",
              "\n",
              "          const docLinkHtml = 'Like what you see? Visit the ' +\n",
              "            '<a target=\"_blank\" href=https://colab.research.google.com/notebooks/data_table.ipynb>data table notebook</a>'\n",
              "            + ' to learn more about interactive tables.';\n",
              "          element.innerHTML = '';\n",
              "          dataTable['output_type'] = 'display_data';\n",
              "          await google.colab.output.renderOutput(dataTable, element);\n",
              "          const docLink = document.createElement('div');\n",
              "          docLink.innerHTML = docLinkHtml;\n",
              "          element.appendChild(docLink);\n",
              "        }\n",
              "      </script>\n",
              "    </div>\n",
              "  </div>\n",
              "  "
            ]
          },
          "metadata": {},
          "execution_count": 15
        }
      ]
    },
    {
      "cell_type": "code",
      "source": [
        "# weather_df[\"temperature (C)\"].plot()\n",
        "weather_df.plot()"
      ],
      "metadata": {
        "id": "gFQ7z1OWpfZE",
        "colab": {
          "base_uri": "https://localhost:8080/",
          "height": 284
        },
        "outputId": "d1de8ace-516c-4690-c5dc-2aaede709b99"
      },
      "execution_count": null,
      "outputs": [
        {
          "output_type": "execute_result",
          "data": {
            "text/plain": [
              "<matplotlib.axes._subplots.AxesSubplot at 0x7f59dfbf61d0>"
            ]
          },
          "metadata": {},
          "execution_count": 16
        },
        {
          "output_type": "display_data",
          "data": {
            "text/plain": [
              "<Figure size 432x288 with 1 Axes>"
            ],
            "image/png": "[encoded data removed]"
          },
          "metadata": {
            "needs_background": "light"
          }
        }
      ]
    },
    {
      "cell_type": "markdown",
      "source": [
        "As we can observe, the data scales for all the data columns vary tremendously hence making it difficult to compare the values and identifying corelation. "
      ],
      "metadata": {
        "id": "9DIjPLsBq0kH"
      }
    },
    {
      "cell_type": "code",
      "source": [
        "correlations = weather_df.corr()\n",
        "sns.heatmap(correlations, cmap=\"YlGnBu\", annot=True)"
      ],
      "metadata": {
        "colab": {
          "base_uri": "https://localhost:8080/",
          "height": 403
        },
        "id": "L0fXe5Lkpzgj",
        "outputId": "58f2b537-eefc-41de-8047-ed0f6d98db68"
      },
      "execution_count": null,
      "outputs": [
        {
          "output_type": "execute_result",
          "data": {
            "text/plain": [
              "<matplotlib.axes._subplots.AxesSubplot at 0x7f59df640e90>"
            ]
          },
          "metadata": {},
          "execution_count": 17
        },
        {
          "output_type": "display_data",
          "data": {
            "text/plain": [
              "<Figure size 432x288 with 2 Axes>"
            ],
            "image/png": "[encoded data removed]"
          },
          "metadata": {
            "needs_background": "light"
          }
        }
      ]
    },
    {
      "cell_type": "markdown",
      "source": [
        "### Correlations we found\n",
        "1. Strong positive :\n",
        "  - temperature / UV intensity\n",
        "  - temperature / heat index\n",
        "  - heat index / UV intensity\n",
        "  - pressure / UV intensity\n",
        "2. Strong negative :\n",
        "  - pressure / altitude\n",
        "  - temperature / humidity\n",
        "3. Moderate positive : \n",
        "  - temperature / pressure\n",
        "  - humidity / altitude\n",
        "  - heat index / pressure\n",
        "  - altitude / light density"
      ],
      "metadata": {
        "id": "kQC3RBPMr_RO"
      }
    },
    {
      "cell_type": "code",
      "source": [
        "pip install distfit"
      ],
      "metadata": {
        "colab": {
          "base_uri": "https://localhost:8080/"
        },
        "id": "OGfe4IWbwwi0",
        "outputId": "6dce8d1c-e35c-4f55-e5e7-6965fa4b8360"
      },
      "execution_count": null,
      "outputs": [
        {
          "output_type": "stream",
          "name": "stdout",
          "text": [
            "Collecting distfit\n",
            "  Downloading distfit-1.4.4-py3-none-any.whl (22 kB)\n",
            "Requirement already satisfied: numpy in /usr/local/lib/python3.7/dist-packages (from distfit) (1.21.5)\n",
            "Requirement already satisfied: matplotlib in /usr/local/lib/python3.7/dist-packages (from distfit) (3.2.2)\n",
            "Requirement already satisfied: scipy in /usr/local/lib/python3.7/dist-packages (from distfit) (1.4.1)\n",
            "Requirement already satisfied: tqdm in /usr/local/lib/python3.7/dist-packages (from distfit) (4.63.0)\n",
            "Requirement already satisfied: pandas in /usr/local/lib/python3.7/dist-packages (from distfit) (1.3.5)\n",
            "Requirement already satisfied: statsmodels in /usr/local/lib/python3.7/dist-packages (from distfit) (0.10.2)\n",
            "Collecting pypickle\n",
            "  Downloading pypickle-1.1.0-py3-none-any.whl (5.1 kB)\n",
            "Requirement already satisfied: cycler>=0.10 in /usr/local/lib/python3.7/dist-packages (from matplotlib->distfit) (0.11.0)\n",
            "Requirement already satisfied: python-dateutil>=2.1 in /usr/local/lib/python3.7/dist-packages (from matplotlib->distfit) (2.8.2)\n",
            "Requirement already satisfied: kiwisolver>=1.0.1 in /usr/local/lib/python3.7/dist-packages (from matplotlib->distfit) (1.4.0)\n",
            "Requirement already satisfied: pyparsing!=2.0.4,!=2.1.2,!=2.1.6,>=2.0.1 in /usr/local/lib/python3.7/dist-packages (from matplotlib->distfit) (3.0.7)\n",
            "Requirement already satisfied: typing-extensions in /usr/local/lib/python3.7/dist-packages (from kiwisolver>=1.0.1->matplotlib->distfit) (3.10.0.2)\n",
            "Requirement already satisfied: six>=1.5 in /usr/local/lib/python3.7/dist-packages (from python-dateutil>=2.1->matplotlib->distfit) (1.15.0)\n",
            "Requirement already satisfied: pytz>=2017.3 in /usr/local/lib/python3.7/dist-packages (from pandas->distfit) (2018.9)\n",
            "Requirement already satisfied: patsy>=0.4.0 in /usr/local/lib/python3.7/dist-packages (from statsmodels->distfit) (0.5.2)\n",
            "Installing collected packages: pypickle, distfit\n",
            "Successfully installed distfit-1.4.4 pypickle-1.1.0\n"
          ]
        }
      ]
    },
    {
      "cell_type": "code",
      "source": [
        "from distfit import distfit"
      ],
      "metadata": {
        "id": "kFBS92kKwj7h",
        "colab": {
          "base_uri": "https://localhost:8080/"
        },
        "outputId": "f1b7bf3e-dfde-4170-908b-4a0a73a1d09e"
      },
      "execution_count": null,
      "outputs": [
        {
          "output_type": "stream",
          "name": "stderr",
          "text": [
            "/usr/local/lib/python3.7/dist-packages/statsmodels/tools/_testing.py:19: FutureWarning: pandas.util.testing is deprecated. Use the functions in the public API at pandas.testing instead.\n",
            "  import pandas.util.testing as tm\n"
          ]
        }
      ]
    },
    {
      "cell_type": "code",
      "source": [
        "dist = distfit()\n",
        "dist.fit_transform(weather_df[\"temperature (C)\"])\n",
        "dist.plot(figsize=(5,3));"
      ],
      "metadata": {
        "colab": {
          "base_uri": "https://localhost:8080/",
          "height": 545
        },
        "id": "tAiWDz81rcxi",
        "outputId": "acb0437c-8255-45ca-cf57-9256007be815"
      },
      "execution_count": null,
      "outputs": [
        {
          "output_type": "stream",
          "name": "stdout",
          "text": [
            "[distfit] >fit..\n",
            "[distfit] >transform..\n",
            "[distfit] >[norm      ] [0.00 sec] [RSS: 0.0580335] [loc=28.844 scale=4.253]\n",
            "[distfit] >[expon     ] [0.00 sec] [RSS: 0.1299931] [loc=20.200 scale=8.644]\n",
            "[distfit] >[pareto    ] [0.07 sec] [RSS: 0.1509591] [loc=-0.052 scale=20.252]\n",
            "[distfit] >[dweibull  ] [0.02 sec] [RSS: 0.0460657] [loc=29.246 scale=3.253]\n",
            "[distfit] >[t         ] [0.07 sec] [RSS: 0.0539391] [loc=28.889 scale=3.667]\n",
            "[distfit] >[genextreme] [0.09 sec] [RSS: 0.0645176] [loc=27.204 scale=4.180]\n",
            "[distfit] >[gamma     ] [0.07 sec] [RSS: 0.0597545] [loc=-46.327 scale=0.241]\n",
            "[distfit] >[lognorm   ] [0.18 sec] [RSS: 0.0597365] [loc=-82.949 scale=111.713]\n",
            "[distfit] >[beta      ] [0.11 sec] [RSS: 0.0596906] [loc=-39.090 scale=583.129]\n",
            "[distfit] >[uniform   ] [0.00 sec] [RSS: 0.1160050] [loc=20.200 scale=22.500]\n",
            "[distfit] >[loggamma  ] [0.12 sec] [RSS: 0.0578618] [loc=-1210.181 scale=168.600]\n",
            "[distfit] >Compute confidence interval [parametric]\n",
            "[distfit] >plot..\n"
          ]
        },
        {
          "output_type": "display_data",
          "data": {
            "text/plain": [
              "<Figure size 360x216 with 1 Axes>"
            ],
            "image/png": "[encoded data removed]"
          },
          "metadata": {
            "needs_background": "light"
          }
        }
      ]
    },
    {
      "cell_type": "code",
      "source": [
        "dist = distfit()\n",
        "dist.fit_transform(weather_df[\"humidity (%)\"])\n",
        "dist.plot(figsize=(5,3));"
      ],
      "metadata": {
        "colab": {
          "base_uri": "https://localhost:8080/",
          "height": 545
        },
        "id": "vsDFB-X7Bnyg",
        "outputId": "35f01072-6208-4154-9a32-c941036f278e"
      },
      "execution_count": null,
      "outputs": [
        {
          "output_type": "stream",
          "name": "stdout",
          "text": [
            "[distfit] >fit..\n",
            "[distfit] >transform..\n",
            "[distfit] >[norm      ] [0.00 sec] [RSS: 0.0060421] [loc=54.857 scale=11.607]\n",
            "[distfit] >[expon     ] [0.00 sec] [RSS: 0.0173748] [loc=29.900 scale=24.957]\n",
            "[distfit] >[pareto    ] [0.08 sec] [RSS: 0.0238187] [loc=-0.084 scale=29.984]\n",
            "[distfit] >[dweibull  ] [0.03 sec] [RSS: 0.0045761] [loc=53.949 scale=9.570]\n",
            "[distfit] >[t         ] [0.06 sec] [RSS: 0.0060417] [loc=54.856 scale=11.607]\n",
            "[distfit] >[genextreme] [0.15 sec] [RSS: 0.0048464] [loc=49.897 scale=9.920]\n",
            "[distfit] >[gamma     ] [0.01 sec] [RSS: 0.0049681] [loc=19.973 scale=3.820]\n",
            "[distfit] >[lognorm   ] [0.08 sec] [RSS: 0.0048714] [loc=7.345 scale=46.154]\n",
            "[distfit] >[beta      ] [0.13 sec] [RSS: 0.0049684] [loc=19.888 scale=169998.133]\n",
            "[distfit] >[uniform   ] [0.00 sec] [RSS: 0.0127696] [loc=29.900 scale=56.000]\n",
            "[distfit] >[loggamma  ] [0.12 sec] [RSS: 0.0061558] [loc=-4142.938 scale=547.928]\n",
            "[distfit] >Compute confidence interval [parametric]\n",
            "[distfit] >plot..\n"
          ]
        },
        {
          "output_type": "display_data",
          "data": {
            "text/plain": [
              "<Figure size 360x216 with 1 Axes>"
            ],
            "image/png": "[encoded data removed]"
          },
          "metadata": {
            "needs_background": "light"
          }
        }
      ]
    },
    {
      "cell_type": "code",
      "source": [
        "dist = distfit()\n",
        "dist.fit_transform(weather_df[\"heat index (C)\"])\n",
        "dist.plot(figsize=(5,3));"
      ],
      "metadata": {
        "colab": {
          "base_uri": "https://localhost:8080/",
          "height": 545
        },
        "id": "2Pq54S2CB8mJ",
        "outputId": "7024df7c-cf4e-47d1-8e5d-82689aebc7de"
      },
      "execution_count": null,
      "outputs": [
        {
          "output_type": "stream",
          "name": "stdout",
          "text": [
            "[distfit] >fit..\n",
            "[distfit] >transform..\n",
            "[distfit] >[norm      ] [0.00 sec] [RSS: 0.0404574] [loc=30.303 scale=5.626]\n",
            "[distfit] >[expon     ] [0.00 sec] [RSS: 0.0707960] [loc=20.500 scale=9.803]\n",
            "[distfit] >[pareto    ] [0.08 sec] [RSS: 0.0830964] [loc=-0.054 scale=20.554]\n",
            "[distfit] >[dweibull  ] [0.07 sec] [RSS: 0.0274798] [loc=30.230 scale=3.991]\n",
            "[distfit] >[t         ] [0.06 sec] [RSS: 0.0404553] [loc=30.303 scale=5.626]\n",
            "[distfit] >[genextreme] [0.10 sec] [RSS: 0.0450158] [loc=27.940 scale=5.008]\n",
            "[distfit] >[gamma     ] [0.04 sec] [RSS: 0.0441002] [loc=10.628 scale=1.595]\n",
            "[distfit] >[lognorm   ] [0.29 sec] [RSS: 0.0437696] [loc=0.755 scale=29.031]\n",
            "[distfit] >[beta      ] [0.09 sec] [RSS: 0.0441002] [loc=10.628 scale=37411196.160]\n",
            "[distfit] >[uniform   ] [0.00 sec] [RSS: 0.0793218] [loc=20.500 scale=32.960]\n",
            "[distfit] >[loggamma  ] [0.09 sec] [RSS: 0.0404884] [loc=-1042.730 scale=160.487]\n",
            "[distfit] >Compute confidence interval [parametric]\n",
            "[distfit] >plot..\n"
          ]
        },
        {
          "output_type": "display_data",
          "data": {
            "text/plain": [
              "<Figure size 360x216 with 1 Axes>"
            ],
            "image/png": "[encoded data removed]"
          },
          "metadata": {
            "needs_background": "light"
          }
        }
      ]
    },
    {
      "cell_type": "code",
      "source": [
        "dist = distfit()\n",
        "dist.fit_transform(weather_df[\"altitude (m)\"])\n",
        "dist.plot(figsize=(5,3));"
      ],
      "metadata": {
        "colab": {
          "base_uri": "https://localhost:8080/",
          "height": 545
        },
        "id": "bkv1srzkCJNo",
        "outputId": "c9287ae9-8def-4913-f717-2694b1cdee68"
      },
      "execution_count": null,
      "outputs": [
        {
          "output_type": "stream",
          "name": "stdout",
          "text": [
            "[distfit] >fit..\n",
            "[distfit] >transform..\n",
            "[distfit] >[norm      ] [0.00 sec] [RSS: 0.0000234] [loc=6.315 scale=557.350]\n",
            "[distfit] >[expon     ] [0.00 sec] [RSS: 0.0000294] [loc=-9060.410 scale=9066.725]\n",
            "[distfit] >[pareto    ] [0.05 sec] [RSS: 0.0000302] [loc=-9062.025 scale=1.615]\n",
            "[distfit] >[dweibull  ] [0.08 sec] [RSS: 0.0000030] [loc=21.590 scale=24.012]\n",
            "[distfit] >[t         ] [0.07 sec] [RSS: 0.0000011] [loc=38.568 scale=16.859]\n",
            "[distfit] >[genextreme] [0.20 sec] [RSS: 0.0000047] [loc=22.077 scale=90.516]\n",
            "[distfit] >[gamma     ] [0.10 sec] [RSS: 0.0000269] [loc=1.580 scale=1.649]\n",
            "[distfit] >[lognorm   ] [0.19 sec] [RSS: 0.0000298] [loc=-9060.410 scale=2.340]\n",
            "[distfit] >[beta      ] [0.09 sec] [RSS: 0.0000057] [loc=-56733.999 scale=56831.869]\n",
            "[distfit] >[uniform   ] [0.00 sec] [RSS: 0.0000290] [loc=-9060.410 scale=9158.280]\n",
            "[distfit] >[loggamma  ] [0.04 sec] [RSS: 0.0000003] [loc=81.934 scale=8.220]\n",
            "[distfit] >Compute confidence interval [parametric]\n",
            "[distfit] >plot..\n"
          ]
        },
        {
          "output_type": "display_data",
          "data": {
            "text/plain": [
              "<Figure size 360x216 with 1 Axes>"
            ],
            "image/png": "[encoded data removed]"
          },
          "metadata": {
            "needs_background": "light"
          }
        }
      ]
    },
    {
      "cell_type": "code",
      "source": [
        "dist = distfit()\n",
        "dist.fit_transform(weather_df[\"lightDensity (V)\"])\n",
        "dist.plot(figsize=(5,3));"
      ],
      "metadata": {
        "colab": {
          "base_uri": "https://localhost:8080/",
          "height": 545
        },
        "id": "RbY47E-xCaRw",
        "outputId": "3bd165e3-01c6-45ad-ef5c-dc6d36166ecb"
      },
      "execution_count": null,
      "outputs": [
        {
          "output_type": "stream",
          "name": "stdout",
          "text": [
            "[distfit] >fit..\n",
            "[distfit] >transform..\n",
            "[distfit] >[norm      ] [0.00 sec] [RSS: 0.0000532] [loc=2291.835 scale=1973.239]\n",
            "[distfit] >[expon     ] [0.00 sec] [RSS: 0.0000518] [loc=0.000 scale=2291.835]\n",
            "[distfit] >[pareto    ] [0.05 sec] [RSS: 0.0000445] [loc=-3.640 scale=3.640]\n",
            "[distfit] >[dweibull  ] [0.05 sec] [RSS: 0.0000182] [loc=2078.884 scale=2017.646]\n",
            "[distfit] >[t         ] [0.06 sec] [RSS: 0.0000466] [loc=74.079 scale=140.658]\n",
            "[distfit] >[genextreme] [0.17 sec] [RSS: 0.0000407] [loc=2610.611 scale=2266.062]\n",
            "[distfit] >[gamma     ] [0.07 sec] [RSS: 0.0000532] [loc=-32568.178 scale=112.498]\n",
            "[distfit] >[lognorm   ] [0.16 sec] [RSS: 0.0000464] [loc=-0.000 scale=7.085]\n",
            "[distfit] >[beta      ] [0.45 sec] [RSS: 0.0000317] [loc=-750.399 scale=4845.399]\n",
            "[distfit] >[uniform   ] [0.00 sec] [RSS: 0.0000518] [loc=0.000 scale=4095.000]\n",
            "[distfit] >[loggamma  ] [0.06 sec] [RSS: 0.0000502] [loc=4095.000 scale=0.000]\n",
            "[distfit] >Compute confidence interval [parametric]\n",
            "[distfit] >plot..\n"
          ]
        },
        {
          "output_type": "display_data",
          "data": {
            "text/plain": [
              "<Figure size 360x216 with 1 Axes>"
            ],
            "image/png": "[encoded data removed]"
          },
          "metadata": {
            "needs_background": "light"
          }
        }
      ]
    },
    {
      "cell_type": "code",
      "source": [
        "dist = distfit()\n",
        "dist.fit_transform(weather_df[\"UV Intensity (mW/cm^2)\"])\n",
        "dist.plot(figsize=(5,3));"
      ],
      "metadata": {
        "colab": {
          "base_uri": "https://localhost:8080/",
          "height": 545
        },
        "id": "yQsVL5XsE2Gl",
        "outputId": "75d21adb-11fc-4e03-fd43-5a4dbe3f14b7"
      },
      "execution_count": null,
      "outputs": [
        {
          "output_type": "stream",
          "name": "stdout",
          "text": [
            "[distfit] >fit..\n",
            "[distfit] >transform..\n",
            "[distfit] >[norm      ] [0.00 sec] [RSS: 0.6591061] [loc=-0.048 scale=1.107]\n",
            "[distfit] >[expon     ] [0.00 sec] [RSS: 0.0536551] [loc=-0.990 scale=0.942]\n",
            "[distfit] >[pareto    ] [0.06 sec] [RSS: 0.0374237] [loc=-1.922 scale=0.932]\n",
            "[distfit] >[dweibull  ] [0.14 sec] [RSS: 0.7027591] [loc=-0.140 scale=0.607]\n",
            "[distfit] >[t         ] [0.03 sec] [RSS: 0.4905136] [loc=-0.498 scale=0.268]\n",
            "[distfit] >[genextreme] [0.08 sec] [RSS: 0.2379924] [loc=-0.517 scale=0.305]\n",
            "[distfit] >[gamma     ] [0.09 sec] [RSS: 0.6247961] [loc=-0.990 scale=1.153]\n",
            "[distfit] >[lognorm   ] [0.06 sec] [RSS: 0.1497986] [loc=-1.000 scale=0.669]\n",
            "[distfit] >[beta      ] [0.15 sec] [RSS: 0.1514195] [loc=-0.991 scale=723508609.888]\n",
            "[distfit] >[uniform   ] [0.00 sec] [RSS: 1.4165735] [loc=-0.990 scale=20.130]\n",
            "[distfit] >[loggamma  ] [0.10 sec] [RSS: 0.6812197] [loc=-531.047 scale=65.818]\n",
            "[distfit] >Compute confidence interval [parametric]\n",
            "[distfit] >plot..\n"
          ]
        },
        {
          "output_type": "display_data",
          "data": {
            "text/plain": [
              "<Figure size 360x216 with 1 Axes>"
            ],
            "image/png": "[encoded data removed]"
          },
          "metadata": {
            "needs_background": "light"
          }
        }
      ]
    },
    {
      "cell_type": "code",
      "source": [
        "plt.figure(figsize=[30,30])\n",
        "\n",
        "n=1\n",
        "\n",
        "for i in selected_columns[1:]:\n",
        "  plt.subplot(4,2,n)\n",
        "  \n",
        "  dist.fit_transform(weather_df[i])\n",
        "  sns.countplot(x=i, alpha=0.6, color='g',data=weather_df)\n",
        "  # dist.plot(figsize=(5,3));\n",
        "  n=n+1\n",
        "\n",
        "plt.tight_layout()\n",
        "plt.show()"
      ],
      "metadata": {
        "colab": {
          "base_uri": "https://localhost:8080/",
          "height": 1000
        },
        "id": "TFAKYvaCvuQt",
        "outputId": "fd6746d8-cfc7-49a6-9d05-73281509e088"
      },
      "execution_count": null,
      "outputs": [
        {
          "output_type": "stream",
          "name": "stdout",
          "text": [
            "[distfit] >Cleaning previous fitted model results..\n",
            "[distfit] >fit..\n",
            "[distfit] >transform..\n",
            "[distfit] >[norm      ] [0.00 sec] [RSS: 0.0580335] [loc=28.844 scale=4.253]\n",
            "[distfit] >[expon     ] [0.00 sec] [RSS: 0.1299931] [loc=20.200 scale=8.644]\n",
            "[distfit] >[pareto    ] [0.07 sec] [RSS: 0.1509591] [loc=-0.052 scale=20.252]\n",
            "[distfit] >[dweibull  ] [0.02 sec] [RSS: 0.0460657] [loc=29.246 scale=3.253]\n",
            "[distfit] >[t         ] [0.08 sec] [RSS: 0.0539391] [loc=28.889 scale=3.667]\n",
            "[distfit] >[genextreme] [0.09 sec] [RSS: 0.0645176] [loc=27.204 scale=4.180]\n",
            "[distfit] >[gamma     ] [0.07 sec] [RSS: 0.0597545] [loc=-46.327 scale=0.241]\n",
            "[distfit] >[lognorm   ] [0.18 sec] [RSS: 0.0597365] [loc=-82.949 scale=111.713]\n",
            "[distfit] >[beta      ] [0.12 sec] [RSS: 0.0596906] [loc=-39.090 scale=583.129]\n",
            "[distfit] >[uniform   ] [0.00 sec] [RSS: 0.1160050] [loc=20.200 scale=22.500]\n",
            "[distfit] >[loggamma  ] [0.11 sec] [RSS: 0.0578618] [loc=-1210.181 scale=168.600]\n",
            "[distfit] >Compute confidence interval [parametric]\n",
            "[distfit] >Cleaning previous fitted model results..\n",
            "[distfit] >fit..\n",
            "[distfit] >transform..\n",
            "[distfit] >[norm      ] [0.00 sec] [RSS: 0.0060421] [loc=54.857 scale=11.607]\n",
            "[distfit] >[expon     ] [0.00 sec] [RSS: 0.0173748] [loc=29.900 scale=24.957]\n",
            "[distfit] >[pareto    ] [0.07 sec] [RSS: 0.0238187] [loc=-0.084 scale=29.984]\n",
            "[distfit] >[dweibull  ] [0.04 sec] [RSS: 0.0045761] [loc=53.949 scale=9.570]\n",
            "[distfit] >[t         ] [0.06 sec] [RSS: 0.0060417] [loc=54.856 scale=11.607]\n",
            "[distfit] >[genextreme] [0.15 sec] [RSS: 0.0048464] [loc=49.897 scale=9.920]\n",
            "[distfit] >[gamma     ] [0.01 sec] [RSS: 0.0049681] [loc=19.973 scale=3.820]\n",
            "[distfit] >[lognorm   ] [0.08 sec] [RSS: 0.0048714] [loc=7.345 scale=46.154]\n",
            "[distfit] >[beta      ] [0.13 sec] [RSS: 0.0049684] [loc=19.888 scale=169998.133]\n",
            "[distfit] >[uniform   ] [0.00 sec] [RSS: 0.0127696] [loc=29.900 scale=56.000]\n",
            "[distfit] >[loggamma  ] [0.10 sec] [RSS: 0.0061558] [loc=-4142.938 scale=547.928]\n",
            "[distfit] >Compute confidence interval [parametric]\n",
            "[distfit] >Cleaning previous fitted model results..\n",
            "[distfit] >fit..\n",
            "[distfit] >transform..\n",
            "[distfit] >[norm      ] [0.00 sec] [RSS: 0.0404574] [loc=30.303 scale=5.626]\n",
            "[distfit] >[expon     ] [0.00 sec] [RSS: 0.0707960] [loc=20.500 scale=9.803]\n",
            "[distfit] >[pareto    ] [0.13 sec] [RSS: 0.0830964] [loc=-0.054 scale=20.554]\n",
            "[distfit] >[dweibull  ] [0.14 sec] [RSS: 0.0274798] [loc=30.230 scale=3.991]\n",
            "[distfit] >[t         ] [0.13 sec] [RSS: 0.0404553] [loc=30.303 scale=5.626]\n",
            "[distfit] >[genextreme] [0.20 sec] [RSS: 0.0450158] [loc=27.940 scale=5.008]\n",
            "[distfit] >[gamma     ] [0.05 sec] [RSS: 0.0441002] [loc=10.628 scale=1.595]\n",
            "[distfit] >[lognorm   ] [0.25 sec] [RSS: 0.0437696] [loc=0.755 scale=29.031]\n",
            "[distfit] >[beta      ] [0.13 sec] [RSS: 0.0441002] [loc=10.628 scale=37411196.160]\n",
            "[distfit] >[uniform   ] [0.00 sec] [RSS: 0.0793218] [loc=20.500 scale=32.960]\n",
            "[distfit] >[loggamma  ] [0.21 sec] [RSS: 0.0404884] [loc=-1042.730 scale=160.487]\n",
            "[distfit] >Compute confidence interval [parametric]\n",
            "[distfit] >Cleaning previous fitted model results..\n",
            "[distfit] >fit..\n",
            "[distfit] >transform..\n",
            "[distfit] >[norm      ] [0.00 sec] [RSS: 0.0000001] [loc=101488.957 scale=10322.691]\n",
            "[distfit] >[expon     ] [0.00 sec] [RSS: 0.0000000] [loc=100152.000 scale=1336.957]\n",
            "[distfit] >[pareto    ] [0.39 sec] [RSS: 0.0000000] [loc=-140.609 scale=100292.609]\n",
            "[distfit] >[dweibull  ] [0.11 sec] [RSS: 0.0000001] [loc=100859.000 scale=9531.200]\n",
            "[distfit] >[t         ] [0.20 sec] [RSS: 0.0000001] [loc=101486.758 scale=10321.877]\n",
            "[distfit] >[genextreme] [0.37 sec] [RSS: 0.0000001] [loc=100152.145 scale=0.814]\n",
            "[distfit] >[gamma     ] [0.32 sec] [RSS: 0.0000001] [loc=100152.000 scale=1.965]\n",
            "[distfit] >[lognorm   ] [0.35 sec] [RSS: 0.0000000] [loc=100125.519 scale=672.241]\n",
            "[distfit] >[beta      ] [0.40 sec] [RSS: 0.0000000] [loc=100152.000 scale=445871.025]\n",
            "[distfit] >[uniform   ] [0.01 sec] [RSS: 0.0000001] [loc=100152.000 scale=169081.000]\n",
            "[distfit] >[loggamma  ] [0.30 sec] [RSS: 0.0000000] [loc=-163284.104 scale=34016.351]\n",
            "[distfit] >Compute confidence interval [parametric]\n",
            "[distfit] >Cleaning previous fitted model results..\n",
            "[distfit] >fit..\n",
            "[distfit] >transform..\n",
            "[distfit] >[norm      ] [0.00 sec] [RSS: 0.0000234] [loc=6.315 scale=557.350]\n",
            "[distfit] >[expon     ] [0.00 sec] [RSS: 0.0000294] [loc=-9060.410 scale=9066.725]\n",
            "[distfit] >[pareto    ] [0.14 sec] [RSS: 0.0000302] [loc=-9062.025 scale=1.615]\n",
            "[distfit] >[dweibull  ] [0.15 sec] [RSS: 0.0000030] [loc=21.590 scale=24.012]\n",
            "[distfit] >[t         ] [0.16 sec] [RSS: 0.0000011] [loc=38.568 scale=16.859]\n",
            "[distfit] >[genextreme] [0.37 sec] [RSS: 0.0000047] [loc=22.077 scale=90.516]\n",
            "[distfit] >[gamma     ] [0.24 sec] [RSS: 0.0000269] [loc=1.580 scale=1.649]\n",
            "[distfit] >[lognorm   ] [0.38 sec] [RSS: 0.0000298] [loc=-9060.410 scale=2.340]\n",
            "[distfit] >[beta      ] [0.14 sec] [RSS: 0.0000057] [loc=-56733.999 scale=56831.869]\n",
            "[distfit] >[uniform   ] [0.00 sec] [RSS: 0.0000290] [loc=-9060.410 scale=9158.280]\n",
            "[distfit] >[loggamma  ] [0.15 sec] [RSS: 0.0000003] [loc=81.934 scale=8.220]\n",
            "[distfit] >Compute confidence interval [parametric]\n",
            "[distfit] >Cleaning previous fitted model results..\n",
            "[distfit] >fit..\n",
            "[distfit] >transform..\n",
            "[distfit] >[norm      ] [0.00 sec] [RSS: 0.0000532] [loc=2291.835 scale=1973.239]\n",
            "[distfit] >[expon     ] [0.00 sec] [RSS: 0.0000518] [loc=0.000 scale=2291.835]\n",
            "[distfit] >[pareto    ] [0.09 sec] [RSS: 0.0000445] [loc=-3.640 scale=3.640]\n",
            "[distfit] >[dweibull  ] [0.10 sec] [RSS: 0.0000182] [loc=2078.884 scale=2017.646]\n",
            "[distfit] >[t         ] [0.13 sec] [RSS: 0.0000466] [loc=74.079 scale=140.658]\n",
            "[distfit] >[genextreme] [0.39 sec] [RSS: 0.0000407] [loc=2610.611 scale=2266.062]\n",
            "[distfit] >[gamma     ] [0.15 sec] [RSS: 0.0000532] [loc=-32568.178 scale=112.498]\n",
            "[distfit] >[lognorm   ] [0.35 sec] [RSS: 0.0000464] [loc=-0.000 scale=7.085]\n",
            "[distfit] >[beta      ] [1.01 sec] [RSS: 0.0000317] [loc=-750.399 scale=4845.399]\n",
            "[distfit] >[uniform   ] [0.00 sec] [RSS: 0.0000518] [loc=0.000 scale=4095.000]\n",
            "[distfit] >[loggamma  ] [0.19 sec] [RSS: 0.0000502] [loc=4095.000 scale=0.000]\n",
            "[distfit] >Compute confidence interval [parametric]\n",
            "[distfit] >Cleaning previous fitted model results..\n",
            "[distfit] >fit..\n",
            "[distfit] >transform..\n",
            "[distfit] >[norm      ] [0.00 sec] [RSS: 0.6591061] [loc=-0.048 scale=1.107]\n",
            "[distfit] >[expon     ] [0.00 sec] [RSS: 0.0536551] [loc=-0.990 scale=0.942]\n",
            "[distfit] >[pareto    ] [0.24 sec] [RSS: 0.0374237] [loc=-1.922 scale=0.932]\n",
            "[distfit] >[dweibull  ] [0.32 sec] [RSS: 0.7027591] [loc=-0.140 scale=0.607]\n",
            "[distfit] >[t         ] [0.06 sec] [RSS: 0.4905136] [loc=-0.498 scale=0.268]\n",
            "[distfit] >[genextreme] [0.43 sec] [RSS: 0.2379924] [loc=-0.517 scale=0.305]\n",
            "[distfit] >[gamma     ] [0.30 sec] [RSS: 0.6247961] [loc=-0.990 scale=1.153]\n",
            "[distfit] >[lognorm   ] [0.15 sec] [RSS: 0.1497986] [loc=-1.000 scale=0.669]\n",
            "[distfit] >[beta      ] [0.32 sec] [RSS: 0.1514195] [loc=-0.991 scale=723508609.888]\n",
            "[distfit] >[uniform   ] [0.00 sec] [RSS: 1.4165735] [loc=-0.990 scale=20.130]\n",
            "[distfit] >[loggamma  ] [0.21 sec] [RSS: 0.6812197] [loc=-531.047 scale=65.818]\n",
            "[distfit] >Compute confidence interval [parametric]\n"
          ]
        },
        {
          "output_type": "display_data",
          "data": {
            "text/plain": [
              "<Figure size 2160x2160 with 7 Axes>"
            ],
            "image/png": "[encoded data removed]"
          },
          "metadata": {
            "needs_background": "light"
          }
        }
      ]
    },
    {
      "cell_type": "code",
      "source": [
        ""
      ],
      "metadata": {
        "id": "xwYm_Bo5EzUN"
      },
      "execution_count": null,
      "outputs": []
    },
    {
      "cell_type": "markdown",
      "source": [
        "## Kmeans on Light Density and Altitude\n",
        "\n",
        "k-means clustering is a method of vector quantization, originally from signal processing, that aims to partition n observations into k clusters in which each observation belongs to the cluster with the nearest mean (cluster centers or cluster centroid), serving as a prototype of the cluster. \n",
        "\n"
      ],
      "metadata": {
        "id": "1-5xa_cQ4HYG"
      }
    },
    {
      "cell_type": "code",
      "source": [
        "import statsmodels.api as sm\n",
        "import seaborn as sns\n",
        "sns.set()\n",
        "from sklearn.cluster import KMeans\n",
        "from sklearn.model_selection import train_test_split"
      ],
      "metadata": {
        "id": "JBw43y1rxTJw"
      },
      "execution_count": null,
      "outputs": []
    },
    {
      "cell_type": "code",
      "source": [
        "weather_df = weather_df.loc[weather_df[\"altitude (m)\"] >0 ]\n",
        "weather_df = weather_df.loc[weather_df[\"pressure (Pa)\"] <150000 ]\n",
        "# print(weather_df)\n",
        "# weather_df.drop(weather_df[weather_df['pressure (Pa)'] < 150000].index, inplace = True)\n",
        "weather_df.describe()"
      ],
      "metadata": {
        "colab": {
          "base_uri": "https://localhost:8080/",
          "height": 300
        },
        "id": "Tmu7Oiux6Tnz",
        "outputId": "abc8ee0d-a92d-492b-9df0-d22bf77be273"
      },
      "execution_count": null,
      "outputs": [
        {
          "output_type": "execute_result",
          "data": {
            "text/plain": [
              "       temperature (C)  humidity (%)  heat index (C)  pressure (Pa)  \\\n",
              "count      1060.000000   1060.000000     1060.000000    1060.000000   \n",
              "mean         28.851321     54.851321       30.312613  100855.960377   \n",
              "std           4.258058     11.632267        5.633691     615.111890   \n",
              "min          20.200000     29.900000       20.500000  100152.000000   \n",
              "25%          26.275000     46.600000       27.110000  100701.750000   \n",
              "50%          29.200000     53.300000       30.250000  100860.500000   \n",
              "75%          31.200000     59.700000       33.125000  101028.500000   \n",
              "max          42.700000     85.900000       53.460000  119158.000000   \n",
              "\n",
              "       altitude (m)  lightDensity (V)  UV Intensity (mW/cm^2)  \n",
              "count   1060.000000       1060.000000             1060.000000  \n",
              "mean      40.528557       2295.262264               -0.066415  \n",
              "std       20.776706       1974.723664                0.939387  \n",
              "min        1.580000          0.000000               -0.990000  \n",
              "25%       24.670000         97.500000               -0.650000  \n",
              "50%       38.745000       4095.000000               -0.400000  \n",
              "75%       51.770000       4095.000000                0.020000  \n",
              "max       97.870000       4095.000000                6.870000  "
            ],
            "text/html": [
              "\n",
              "  <div id=\"df-e4bd4b31-7c57-45c8-820d-ee64cf0bad0b\">\n",
              "    <div class=\"colab-df-container\">\n",
              "      <div>\n",
              "<style scoped>\n",
              "    .dataframe tbody tr th:only-of-type {\n",
              "        vertical-align: middle;\n",
              "    }\n",
              "\n",
              "    .dataframe tbody tr th {\n",
              "        vertical-align: top;\n",
              "    }\n",
              "\n",
              "    .dataframe thead th {\n",
              "        text-align: right;\n",
              "    }\n",
              "</style>\n",
              "<table border=\"1\" class=\"dataframe\">\n",
              "  <thead>\n",
              "    <tr style=\"text-align: right;\">\n",
              "      <th></th>\n",
              "      <th>temperature (C)</th>\n",
              "      <th>humidity (%)</th>\n",
              "      <th>heat index (C)</th>\n",
              "      <th>pressure (Pa)</th>\n",
              "      <th>altitude (m)</th>\n",
              "      <th>lightDensity (V)</th>\n",
              "      <th>UV Intensity (mW/cm^2)</th>\n",
              "    </tr>\n",
              "  </thead>\n",
              "  <tbody>\n",
              "    <tr>\n",
              "      <th>count</th>\n",
              "      <td>1060.000000</td>\n",
              "      <td>1060.000000</td>\n",
              "      <td>1060.000000</td>\n",
              "      <td>1060.000000</td>\n",
              "      <td>1060.000000</td>\n",
              "      <td>1060.000000</td>\n",
              "      <td>1060.000000</td>\n",
              "    </tr>\n",
              "    <tr>\n",
              "      <th>mean</th>\n",
              "      <td>28.851321</td>\n",
              "      <td>54.851321</td>\n",
              "      <td>30.312613</td>\n",
              "      <td>100855.960377</td>\n",
              "      <td>40.528557</td>\n",
              "      <td>2295.262264</td>\n",
              "      <td>-0.066415</td>\n",
              "    </tr>\n",
              "    <tr>\n",
              "      <th>std</th>\n",
              "      <td>4.258058</td>\n",
              "      <td>11.632267</td>\n",
              "      <td>5.633691</td>\n",
              "      <td>615.111890</td>\n",
              "      <td>20.776706</td>\n",
              "      <td>1974.723664</td>\n",
              "      <td>0.939387</td>\n",
              "    </tr>\n",
              "    <tr>\n",
              "      <th>min</th>\n",
              "      <td>20.200000</td>\n",
              "      <td>29.900000</td>\n",
              "      <td>20.500000</td>\n",
              "      <td>100152.000000</td>\n",
              "      <td>1.580000</td>\n",
              "      <td>0.000000</td>\n",
              "      <td>-0.990000</td>\n",
              "    </tr>\n",
              "    <tr>\n",
              "      <th>25%</th>\n",
              "      <td>26.275000</td>\n",
              "      <td>46.600000</td>\n",
              "      <td>27.110000</td>\n",
              "      <td>100701.750000</td>\n",
              "      <td>24.670000</td>\n",
              "      <td>97.500000</td>\n",
              "      <td>-0.650000</td>\n",
              "    </tr>\n",
              "    <tr>\n",
              "      <th>50%</th>\n",
              "      <td>29.200000</td>\n",
              "      <td>53.300000</td>\n",
              "      <td>30.250000</td>\n",
              "      <td>100860.500000</td>\n",
              "      <td>38.745000</td>\n",
              "      <td>4095.000000</td>\n",
              "      <td>-0.400000</td>\n",
              "    </tr>\n",
              "    <tr>\n",
              "      <th>75%</th>\n",
              "      <td>31.200000</td>\n",
              "      <td>59.700000</td>\n",
              "      <td>33.125000</td>\n",
              "      <td>101028.500000</td>\n",
              "      <td>51.770000</td>\n",
              "      <td>4095.000000</td>\n",
              "      <td>0.020000</td>\n",
              "    </tr>\n",
              "    <tr>\n",
              "      <th>max</th>\n",
              "      <td>42.700000</td>\n",
              "      <td>85.900000</td>\n",
              "      <td>53.460000</td>\n",
              "      <td>119158.000000</td>\n",
              "      <td>97.870000</td>\n",
              "      <td>4095.000000</td>\n",
              "      <td>6.870000</td>\n",
              "    </tr>\n",
              "  </tbody>\n",
              "</table>\n",
              "</div>\n",
              "      <button class=\"colab-df-convert\" onclick=\"convertToInteractive('df-e4bd4b31-7c57-45c8-820d-ee64cf0bad0b')\"\n",
              "              title=\"Convert this dataframe to an interactive table.\"\n",
              "              style=\"display:none;\">\n",
              "        \n",
              "  <svg xmlns=\"http://www.w3.org/2000/svg\" height=\"24px\"viewBox=\"0 0 24 24\"\n",
              "       width=\"24px\">\n",
              "    <path d=\"M0 0h24v24H0V0z\" fill=\"none\"/>\n",
              "    <path d=\"M18.56 5.44l.94 2.06.94-2.06 2.06-.94-2.06-.94-.94-2.06-.94 2.06-2.06.94zm-11 1L8.5 8.5l.94-2.06 2.06-.94-2.06-.94L8.5 2.5l-.94 2.06-2.06.94zm10 10l.94 2.06.94-2.06 2.06-.94-2.06-.94-.94-2.06-.94 2.06-2.06.94z\"/><path d=\"M17.41 7.96l-1.37-1.37c-.4-.4-.92-.59-1.43-.59-.52 0-1.04.2-1.43.59L10.3 9.45l-7.72 7.72c-.78.78-.78 2.05 0 2.83L4 21.41c.39.39.9.59 1.41.59.51 0 1.02-.2 1.41-.59l7.78-7.78 2.81-2.81c.8-.78.8-2.07 0-2.86zM5.41 20L4 18.59l7.72-7.72 1.47 1.35L5.41 20z\"/>\n",
              "  </svg>\n",
              "      </button>\n",
              "      \n",
              "  <style>\n",
              "    .colab-df-container {\n",
              "      display:flex;\n",
              "      flex-wrap:wrap;\n",
              "      gap: 12px;\n",
              "    }\n",
              "\n",
              "    .colab-df-convert {\n",
              "      background-color: #E8F0FE;\n",
              "      border: none;\n",
              "      border-radius: 50%;\n",
              "      cursor: pointer;\n",
              "      display: none;\n",
              "      fill: #1967D2;\n",
              "      height: 32px;\n",
              "      padding: 0 0 0 0;\n",
              "      width: 32px;\n",
              "    }\n",
              "\n",
              "    .colab-df-convert:hover {\n",
              "      background-color: #E2EBFA;\n",
              "      box-shadow: 0px 1px 2px rgba(60, 64, 67, 0.3), 0px 1px 3px 1px rgba(60, 64, 67, 0.15);\n",
              "      fill: #174EA6;\n",
              "    }\n",
              "\n",
              "    [theme=dark] .colab-df-convert {\n",
              "      background-color: #3B4455;\n",
              "      fill: #D2E3FC;\n",
              "    }\n",
              "\n",
              "    [theme=dark] .colab-df-convert:hover {\n",
              "      background-color: #434B5C;\n",
              "      box-shadow: 0px 1px 3px 1px rgba(0, 0, 0, 0.15);\n",
              "      filter: drop-shadow(0px 1px 2px rgba(0, 0, 0, 0.3));\n",
              "      fill: #FFFFFF;\n",
              "    }\n",
              "  </style>\n",
              "\n",
              "      <script>\n",
              "        const buttonEl =\n",
              "          document.querySelector('#df-e4bd4b31-7c57-45c8-820d-ee64cf0bad0b button.colab-df-convert');\n",
              "        buttonEl.style.display =\n",
              "          google.colab.kernel.accessAllowed ? 'block' : 'none';\n",
              "\n",
              "        async function convertToInteractive(key) {\n",
              "          const element = document.querySelector('#df-e4bd4b31-7c57-45c8-820d-ee64cf0bad0b');\n",
              "          const dataTable =\n",
              "            await google.colab.kernel.invokeFunction('convertToInteractive',\n",
              "                                                     [key], {});\n",
              "          if (!dataTable) return;\n",
              "\n",
              "          const docLinkHtml = 'Like what you see? Visit the ' +\n",
              "            '<a target=\"_blank\" href=https://colab.research.google.com/notebooks/data_table.ipynb>data table notebook</a>'\n",
              "            + ' to learn more about interactive tables.';\n",
              "          element.innerHTML = '';\n",
              "          dataTable['output_type'] = 'display_data';\n",
              "          await google.colab.output.renderOutput(dataTable, element);\n",
              "          const docLink = document.createElement('div');\n",
              "          docLink.innerHTML = docLinkHtml;\n",
              "          element.appendChild(docLink);\n",
              "        }\n",
              "      </script>\n",
              "    </div>\n",
              "  </div>\n",
              "  "
            ]
          },
          "metadata": {},
          "execution_count": 28
        }
      ]
    },
    {
      "cell_type": "code",
      "source": [
        "x = weather_df[['lightDensity (V)',\"altitude (m)\"]] # 1t for rows and second for column"
      ],
      "metadata": {
        "id": "sJOVDWQtAVSt"
      },
      "execution_count": null,
      "outputs": []
    },
    {
      "cell_type": "markdown",
      "source": [
        "We split the dataset into test and train"
      ],
      "metadata": {
        "id": "0BAoDiTeJEXG"
      }
    },
    {
      "cell_type": "code",
      "source": [
        "import sklearn\n",
        "x_train, x_test = train_test_split(x)"
      ],
      "metadata": {
        "id": "KVsLYf-gJDg9"
      },
      "execution_count": null,
      "outputs": []
    },
    {
      "cell_type": "markdown",
      "source": [
        "We find out the optimum number of clusters through Silhouette analysis and plotting the elbow curve"
      ],
      "metadata": {
        "id": "ZH0dMtvWFapB"
      }
    },
    {
      "cell_type": "code",
      "source": [
        "wcss=[]\n",
        "for i in range(1,7):\n",
        "  kmeans = KMeans(i)\n",
        "  kmeans.fit(x_train)\n",
        "  wcss_iter = kmeans.inertia_\n",
        "  wcss.append(wcss_iter)\n",
        "\n",
        "number_clusters = range(1,7)\n",
        "plt.plot(number_clusters,wcss)\n",
        "plt.title('The Elbow title')\n",
        "plt.xlabel('Number of clusters')\n",
        "plt.ylabel('WCSS')"
      ],
      "metadata": {
        "colab": {
          "base_uri": "https://localhost:8080/",
          "height": 319
        },
        "id": "gF5PgL1DDndy",
        "outputId": "7e8af4c4-dc55-4ebd-ed2a-c808b5053d70"
      },
      "execution_count": null,
      "outputs": [
        {
          "output_type": "execute_result",
          "data": {
            "text/plain": [
              "Text(0, 0.5, 'WCSS')"
            ]
          },
          "metadata": {},
          "execution_count": 31
        },
        {
          "output_type": "display_data",
          "data": {
            "text/plain": [
              "<Figure size 432x288 with 1 Axes>"
            ],
            "image/png": "[encoded data removed]"
          },
          "metadata": {}
        }
      ]
    },
    {
      "cell_type": "markdown",
      "source": [
        "The optimum number of clusters is 2"
      ],
      "metadata": {
        "id": "_obYd329J1JO"
      }
    },
    {
      "cell_type": "code",
      "source": [
        "kmeans = KMeans(2)\n",
        "kmeans.fit(x)"
      ],
      "metadata": {
        "colab": {
          "base_uri": "https://localhost:8080/"
        },
        "id": "mP7qbT-wCKZE",
        "outputId": "fd761582-ccdf-4f76-cb19-c1d75ce99c14"
      },
      "execution_count": null,
      "outputs": [
        {
          "output_type": "execute_result",
          "data": {
            "text/plain": [
              "KMeans(n_clusters=2)"
            ]
          },
          "metadata": {},
          "execution_count": 32
        }
      ]
    },
    {
      "cell_type": "code",
      "source": [
        "identified_clusters = kmeans.fit_predict(x)\n",
        "identified_clusters"
      ],
      "metadata": {
        "colab": {
          "base_uri": "https://localhost:8080/"
        },
        "id": "gxKgqwNzDD2D",
        "outputId": "69d9b305-2e45-4256-a0ac-7b7441d3a8dc"
      },
      "execution_count": null,
      "outputs": [
        {
          "output_type": "execute_result",
          "data": {
            "text/plain": [
              "array([0, 0, 1, ..., 1, 1, 1], dtype=int32)"
            ]
          },
          "metadata": {},
          "execution_count": 33
        }
      ]
    },
    {
      "cell_type": "code",
      "source": [
        "data_with_clusters = weather_df.copy()\n",
        "data_with_clusters['Clusters'] = identified_clusters \n",
        "plt.scatter(data_with_clusters['lightDensity (V)'],data_with_clusters['altitude (m)'],c=data_with_clusters['Clusters'],cmap='rainbow')"
      ],
      "metadata": {
        "colab": {
          "base_uri": "https://localhost:8080/",
          "height": 286
        },
        "id": "Mnv9iCnCDO_D",
        "outputId": "6f210811-4915-4736-afbe-b0ca1e44774f"
      },
      "execution_count": null,
      "outputs": [
        {
          "output_type": "execute_result",
          "data": {
            "text/plain": [
              "<matplotlib.collections.PathCollection at 0x7f59c0f0b510>"
            ]
          },
          "metadata": {},
          "execution_count": 34
        },
        {
          "output_type": "display_data",
          "data": {
            "text/plain": [
              "<Figure size 432x288 with 1 Axes>"
            ],
            "image/png": "[encoded data removed]"
          },
          "metadata": {}
        }
      ]
    },
    {
      "cell_type": "markdown",
      "source": [
        "##Temperature vs Humidity"
      ],
      "metadata": {
        "id": "XfugOm_1-cZ8"
      }
    },
    {
      "cell_type": "code",
      "source": [
        "y = weather_df[['temperature (C)',\"humidity (%)\"]] # 1t for rows and second for columns\n",
        "y"
      ],
      "metadata": {
        "id": "-XyZ8FO5ECWx",
        "colab": {
          "base_uri": "https://localhost:8080/",
          "height": 423
        },
        "outputId": "665929ae-ca6e-46b2-9d77-26b3c48703e9"
      },
      "execution_count": null,
      "outputs": [
        {
          "output_type": "execute_result",
          "data": {
            "text/plain": [
              "      temperature (C)  humidity (%)\n",
              "1                28.4          67.0\n",
              "2                28.4          64.3\n",
              "3                28.4          66.0\n",
              "4                28.1          65.2\n",
              "5                27.7          66.1\n",
              "...               ...           ...\n",
              "1062             31.9          53.7\n",
              "1063             31.9          53.3\n",
              "1064             32.9          52.4\n",
              "1065             33.6          51.0\n",
              "1066             33.9          51.2\n",
              "\n",
              "[1060 rows x 2 columns]"
            ],
            "text/html": [
              "\n",
              "  <div id=\"df-e6a77182-e813-4573-b759-431497db61dc\">\n",
              "    <div class=\"colab-df-container\">\n",
              "      <div>\n",
              "<style scoped>\n",
              "    .dataframe tbody tr th:only-of-type {\n",
              "        vertical-align: middle;\n",
              "    }\n",
              "\n",
              "    .dataframe tbody tr th {\n",
              "        vertical-align: top;\n",
              "    }\n",
              "\n",
              "    .dataframe thead th {\n",
              "        text-align: right;\n",
              "    }\n",
              "</style>\n",
              "<table border=\"1\" class=\"dataframe\">\n",
              "  <thead>\n",
              "    <tr style=\"text-align: right;\">\n",
              "      <th></th>\n",
              "      <th>temperature (C)</th>\n",
              "      <th>humidity (%)</th>\n",
              "    </tr>\n",
              "  </thead>\n",
              "  <tbody>\n",
              "    <tr>\n",
              "      <th>1</th>\n",
              "      <td>28.4</td>\n",
              "      <td>67.0</td>\n",
              "    </tr>\n",
              "    <tr>\n",
              "      <th>2</th>\n",
              "      <td>28.4</td>\n",
              "      <td>64.3</td>\n",
              "    </tr>\n",
              "    <tr>\n",
              "      <th>3</th>\n",
              "      <td>28.4</td>\n",
              "      <td>66.0</td>\n",
              "    </tr>\n",
              "    <tr>\n",
              "      <th>4</th>\n",
              "      <td>28.1</td>\n",
              "      <td>65.2</td>\n",
              "    </tr>\n",
              "    <tr>\n",
              "      <th>5</th>\n",
              "      <td>27.7</td>\n",
              "      <td>66.1</td>\n",
              "    </tr>\n",
              "    <tr>\n",
              "      <th>...</th>\n",
              "      <td>...</td>\n",
              "      <td>...</td>\n",
              "    </tr>\n",
              "    <tr>\n",
              "      <th>1062</th>\n",
              "      <td>31.9</td>\n",
              "      <td>53.7</td>\n",
              "    </tr>\n",
              "    <tr>\n",
              "      <th>1063</th>\n",
              "      <td>31.9</td>\n",
              "      <td>53.3</td>\n",
              "    </tr>\n",
              "    <tr>\n",
              "      <th>1064</th>\n",
              "      <td>32.9</td>\n",
              "      <td>52.4</td>\n",
              "    </tr>\n",
              "    <tr>\n",
              "      <th>1065</th>\n",
              "      <td>33.6</td>\n",
              "      <td>51.0</td>\n",
              "    </tr>\n",
              "    <tr>\n",
              "      <th>1066</th>\n",
              "      <td>33.9</td>\n",
              "      <td>51.2</td>\n",
              "    </tr>\n",
              "  </tbody>\n",
              "</table>\n",
              "<p>1060 rows × 2 columns</p>\n",
              "</div>\n",
              "      <button class=\"colab-df-convert\" onclick=\"convertToInteractive('df-e6a77182-e813-4573-b759-431497db61dc')\"\n",
              "              title=\"Convert this dataframe to an interactive table.\"\n",
              "              style=\"display:none;\">\n",
              "        \n",
              "  <svg xmlns=\"http://www.w3.org/2000/svg\" height=\"24px\"viewBox=\"0 0 24 24\"\n",
              "       width=\"24px\">\n",
              "    <path d=\"M0 0h24v24H0V0z\" fill=\"none\"/>\n",
              "    <path d=\"M18.56 5.44l.94 2.06.94-2.06 2.06-.94-2.06-.94-.94-2.06-.94 2.06-2.06.94zm-11 1L8.5 8.5l.94-2.06 2.06-.94-2.06-.94L8.5 2.5l-.94 2.06-2.06.94zm10 10l.94 2.06.94-2.06 2.06-.94-2.06-.94-.94-2.06-.94 2.06-2.06.94z\"/><path d=\"M17.41 7.96l-1.37-1.37c-.4-.4-.92-.59-1.43-.59-.52 0-1.04.2-1.43.59L10.3 9.45l-7.72 7.72c-.78.78-.78 2.05 0 2.83L4 21.41c.39.39.9.59 1.41.59.51 0 1.02-.2 1.41-.59l7.78-7.78 2.81-2.81c.8-.78.8-2.07 0-2.86zM5.41 20L4 18.59l7.72-7.72 1.47 1.35L5.41 20z\"/>\n",
              "  </svg>\n",
              "      </button>\n",
              "      \n",
              "  <style>\n",
              "    .colab-df-container {\n",
              "      display:flex;\n",
              "      flex-wrap:wrap;\n",
              "      gap: 12px;\n",
              "    }\n",
              "\n",
              "    .colab-df-convert {\n",
              "      background-color: #E8F0FE;\n",
              "      border: none;\n",
              "      border-radius: 50%;\n",
              "      cursor: pointer;\n",
              "      display: none;\n",
              "      fill: #1967D2;\n",
              "      height: 32px;\n",
              "      padding: 0 0 0 0;\n",
              "      width: 32px;\n",
              "    }\n",
              "\n",
              "    .colab-df-convert:hover {\n",
              "      background-color: #E2EBFA;\n",
              "      box-shadow: 0px 1px 2px rgba(60, 64, 67, 0.3), 0px 1px 3px 1px rgba(60, 64, 67, 0.15);\n",
              "      fill: #174EA6;\n",
              "    }\n",
              "\n",
              "    [theme=dark] .colab-df-convert {\n",
              "      background-color: #3B4455;\n",
              "      fill: #D2E3FC;\n",
              "    }\n",
              "\n",
              "    [theme=dark] .colab-df-convert:hover {\n",
              "      background-color: #434B5C;\n",
              "      box-shadow: 0px 1px 3px 1px rgba(0, 0, 0, 0.15);\n",
              "      filter: drop-shadow(0px 1px 2px rgba(0, 0, 0, 0.3));\n",
              "      fill: #FFFFFF;\n",
              "    }\n",
              "  </style>\n",
              "\n",
              "      <script>\n",
              "        const buttonEl =\n",
              "          document.querySelector('#df-e6a77182-e813-4573-b759-431497db61dc button.colab-df-convert');\n",
              "        buttonEl.style.display =\n",
              "          google.colab.kernel.accessAllowed ? 'block' : 'none';\n",
              "\n",
              "        async function convertToInteractive(key) {\n",
              "          const element = document.querySelector('#df-e6a77182-e813-4573-b759-431497db61dc');\n",
              "          const dataTable =\n",
              "            await google.colab.kernel.invokeFunction('convertToInteractive',\n",
              "                                                     [key], {});\n",
              "          if (!dataTable) return;\n",
              "\n",
              "          const docLinkHtml = 'Like what you see? Visit the ' +\n",
              "            '<a target=\"_blank\" href=https://colab.research.google.com/notebooks/data_table.ipynb>data table notebook</a>'\n",
              "            + ' to learn more about interactive tables.';\n",
              "          element.innerHTML = '';\n",
              "          dataTable['output_type'] = 'display_data';\n",
              "          await google.colab.output.renderOutput(dataTable, element);\n",
              "          const docLink = document.createElement('div');\n",
              "          docLink.innerHTML = docLinkHtml;\n",
              "          element.appendChild(docLink);\n",
              "        }\n",
              "      </script>\n",
              "    </div>\n",
              "  </div>\n",
              "  "
            ]
          },
          "metadata": {},
          "execution_count": 35
        }
      ]
    },
    {
      "cell_type": "code",
      "source": [
        "wcss=[]\n",
        "for i in range(1,7):\n",
        "  kmeans = KMeans(i)\n",
        "  kmeans.fit(y)\n",
        "  wcss_iter = kmeans.inertia_\n",
        "  wcss.append(wcss_iter)\n",
        "\n",
        "number_clusters = range(1,7)\n",
        "plt.plot(number_clusters,wcss)\n",
        "plt.title('The Elbow title')\n",
        "plt.xlabel('Number of clusters')\n",
        "plt.ylabel('WCSS')"
      ],
      "metadata": {
        "colab": {
          "base_uri": "https://localhost:8080/",
          "height": 319
        },
        "id": "ydqFAKFq-2yD",
        "outputId": "98e43d89-d43c-4e09-8b82-35437a55f792"
      },
      "execution_count": null,
      "outputs": [
        {
          "output_type": "execute_result",
          "data": {
            "text/plain": [
              "Text(0, 0.5, 'WCSS')"
            ]
          },
          "metadata": {},
          "execution_count": 36
        },
        {
          "output_type": "display_data",
          "data": {
            "text/plain": [
              "<Figure size 432x288 with 1 Axes>"
            ],
            "image/png": "[encoded data removed]"
          },
          "metadata": {}
        }
      ]
    },
    {
      "cell_type": "markdown",
      "source": [
        "The optimum number of clusters is 3 as the curve takes a sharp turn at it."
      ],
      "metadata": {
        "id": "RJgvx_s8Gj2m"
      }
    },
    {
      "cell_type": "code",
      "source": [
        "kmeans = KMeans(3)\n",
        "kmeans.fit(y)"
      ],
      "metadata": {
        "colab": {
          "base_uri": "https://localhost:8080/"
        },
        "id": "XteEwHOt-YMT",
        "outputId": "b37add90-e6c8-40e0-9779-1d806c5fb7e8"
      },
      "execution_count": null,
      "outputs": [
        {
          "output_type": "execute_result",
          "data": {
            "text/plain": [
              "KMeans(n_clusters=3)"
            ]
          },
          "metadata": {},
          "execution_count": 37
        }
      ]
    },
    {
      "cell_type": "code",
      "source": [
        "identified_clusters = kmeans.fit_predict(y)\n",
        "identified_clusters"
      ],
      "metadata": {
        "colab": {
          "base_uri": "https://localhost:8080/"
        },
        "id": "r3DrWz6L-lv6",
        "outputId": "312fa006-4334-485f-df1a-d489bffbad7d"
      },
      "execution_count": null,
      "outputs": [
        {
          "output_type": "execute_result",
          "data": {
            "text/plain": [
              "array([0, 2, 2, ..., 2, 1, 1], dtype=int32)"
            ]
          },
          "metadata": {},
          "execution_count": 38
        }
      ]
    },
    {
      "cell_type": "code",
      "source": [
        "data_with_clusters = weather_df.copy()\n",
        "data_with_clusters['Clusters'] = identified_clusters \n",
        "plt.scatter(data_with_clusters['temperature (C)'],data_with_clusters['humidity (%)'],c=data_with_clusters['Clusters'],cmap='rainbow')"
      ],
      "metadata": {
        "colab": {
          "base_uri": "https://localhost:8080/",
          "height": 286
        },
        "id": "5DR3krH5-p-7",
        "outputId": "416483b8-6b96-4d1e-f0fc-d7889df8f94c"
      },
      "execution_count": null,
      "outputs": [
        {
          "output_type": "execute_result",
          "data": {
            "text/plain": [
              "<matplotlib.collections.PathCollection at 0x7f59c0f0b3d0>"
            ]
          },
          "metadata": {},
          "execution_count": 39
        },
        {
          "output_type": "display_data",
          "data": {
            "text/plain": [
              "<Figure size 432x288 with 1 Axes>"
            ],
            "image/png": "[encoded data removed]"
          },
          "metadata": {}
        }
      ]
    },
    {
      "cell_type": "markdown",
      "source": [
        "##Testing"
      ],
      "metadata": {
        "id": "eUIvBn8LKupL"
      }
    },
    {
      "cell_type": "code",
      "source": [
        "test_response={}\n",
        "\n",
        "for col in x.columns:\n",
        "    user_input=float(input(f\"{col} :  \"))\n",
        "#     print(user_input)\n",
        "    test_response[col]=user_input"
      ],
      "metadata": {
        "colab": {
          "base_uri": "https://localhost:8080/"
        },
        "id": "7DCn7bb3JudK",
        "outputId": "cd0ce216-0014-403e-d51e-c1adbafb2ea8"
      },
      "execution_count": null,
      "outputs": [
        {
          "name": "stdout",
          "output_type": "stream",
          "text": [
            "lightDensity (V) :  4093\n",
            "altitude (m) :  35.3\n"
          ]
        }
      ]
    },
    {
      "cell_type": "code",
      "source": [
        "test_df = pd.DataFrame(test_response.items()).T\n",
        "new_header = test_df.iloc[0] #grab the first row for the header\n",
        "test_df = test_df[1:] #take the data less the header row\n",
        "test_df.columns = new_header #set the header row as the df header\n",
        "test_df.reset_index(drop=True, inplace=True)\n",
        "test_df= test_df.apply(pd.to_numeric)\n",
        "test_df"
      ],
      "metadata": {
        "colab": {
          "base_uri": "https://localhost:8080/",
          "height": 81
        },
        "id": "XFGez-TSM3yJ",
        "outputId": "c52a4aea-7911-424b-84ec-59dbc66fedb4"
      },
      "execution_count": null,
      "outputs": [
        {
          "output_type": "execute_result",
          "data": {
            "text/plain": [
              "0  lightDensity (V)  altitude (m)\n",
              "0            4093.0          35.3"
            ],
            "text/html": [
              "\n",
              "  <div id=\"df-ab8230af-3e9e-46ca-919b-07181f0ccd30\">\n",
              "    <div class=\"colab-df-container\">\n",
              "      <div>\n",
              "<style scoped>\n",
              "    .dataframe tbody tr th:only-of-type {\n",
              "        vertical-align: middle;\n",
              "    }\n",
              "\n",
              "    .dataframe tbody tr th {\n",
              "        vertical-align: top;\n",
              "    }\n",
              "\n",
              "    .dataframe thead th {\n",
              "        text-align: right;\n",
              "    }\n",
              "</style>\n",
              "<table border=\"1\" class=\"dataframe\">\n",
              "  <thead>\n",
              "    <tr style=\"text-align: right;\">\n",
              "      <th></th>\n",
              "      <th>lightDensity (V)</th>\n",
              "      <th>altitude (m)</th>\n",
              "    </tr>\n",
              "  </thead>\n",
              "  <tbody>\n",
              "    <tr>\n",
              "      <th>0</th>\n",
              "      <td>4093.0</td>\n",
              "      <td>35.3</td>\n",
              "    </tr>\n",
              "  </tbody>\n",
              "</table>\n",
              "</div>\n",
              "      <button class=\"colab-df-convert\" onclick=\"convertToInteractive('df-ab8230af-3e9e-46ca-919b-07181f0ccd30')\"\n",
              "              title=\"Convert this dataframe to an interactive table.\"\n",
              "              style=\"display:none;\">\n",
              "        \n",
              "  <svg xmlns=\"http://www.w3.org/2000/svg\" height=\"24px\"viewBox=\"0 0 24 24\"\n",
              "       width=\"24px\">\n",
              "    <path d=\"M0 0h24v24H0V0z\" fill=\"none\"/>\n",
              "    <path d=\"M18.56 5.44l.94 2.06.94-2.06 2.06-.94-2.06-.94-.94-2.06-.94 2.06-2.06.94zm-11 1L8.5 8.5l.94-2.06 2.06-.94-2.06-.94L8.5 2.5l-.94 2.06-2.06.94zm10 10l.94 2.06.94-2.06 2.06-.94-2.06-.94-.94-2.06-.94 2.06-2.06.94z\"/><path d=\"M17.41 7.96l-1.37-1.37c-.4-.4-.92-.59-1.43-.59-.52 0-1.04.2-1.43.59L10.3 9.45l-7.72 7.72c-.78.78-.78 2.05 0 2.83L4 21.41c.39.39.9.59 1.41.59.51 0 1.02-.2 1.41-.59l7.78-7.78 2.81-2.81c.8-.78.8-2.07 0-2.86zM5.41 20L4 18.59l7.72-7.72 1.47 1.35L5.41 20z\"/>\n",
              "  </svg>\n",
              "      </button>\n",
              "      \n",
              "  <style>\n",
              "    .colab-df-container {\n",
              "      display:flex;\n",
              "      flex-wrap:wrap;\n",
              "      gap: 12px;\n",
              "    }\n",
              "\n",
              "    .colab-df-convert {\n",
              "      background-color: #E8F0FE;\n",
              "      border: none;\n",
              "      border-radius: 50%;\n",
              "      cursor: pointer;\n",
              "      display: none;\n",
              "      fill: #1967D2;\n",
              "      height: 32px;\n",
              "      padding: 0 0 0 0;\n",
              "      width: 32px;\n",
              "    }\n",
              "\n",
              "    .colab-df-convert:hover {\n",
              "      background-color: #E2EBFA;\n",
              "      box-shadow: 0px 1px 2px rgba(60, 64, 67, 0.3), 0px 1px 3px 1px rgba(60, 64, 67, 0.15);\n",
              "      fill: #174EA6;\n",
              "    }\n",
              "\n",
              "    [theme=dark] .colab-df-convert {\n",
              "      background-color: #3B4455;\n",
              "      fill: #D2E3FC;\n",
              "    }\n",
              "\n",
              "    [theme=dark] .colab-df-convert:hover {\n",
              "      background-color: #434B5C;\n",
              "      box-shadow: 0px 1px 3px 1px rgba(0, 0, 0, 0.15);\n",
              "      filter: drop-shadow(0px 1px 2px rgba(0, 0, 0, 0.3));\n",
              "      fill: #FFFFFF;\n",
              "    }\n",
              "  </style>\n",
              "\n",
              "      <script>\n",
              "        const buttonEl =\n",
              "          document.querySelector('#df-ab8230af-3e9e-46ca-919b-07181f0ccd30 button.colab-df-convert');\n",
              "        buttonEl.style.display =\n",
              "          google.colab.kernel.accessAllowed ? 'block' : 'none';\n",
              "\n",
              "        async function convertToInteractive(key) {\n",
              "          const element = document.querySelector('#df-ab8230af-3e9e-46ca-919b-07181f0ccd30');\n",
              "          const dataTable =\n",
              "            await google.colab.kernel.invokeFunction('convertToInteractive',\n",
              "                                                     [key], {});\n",
              "          if (!dataTable) return;\n",
              "\n",
              "          const docLinkHtml = 'Like what you see? Visit the ' +\n",
              "            '<a target=\"_blank\" href=https://colab.research.google.com/notebooks/data_table.ipynb>data table notebook</a>'\n",
              "            + ' to learn more about interactive tables.';\n",
              "          element.innerHTML = '';\n",
              "          dataTable['output_type'] = 'display_data';\n",
              "          await google.colab.output.renderOutput(dataTable, element);\n",
              "          const docLink = document.createElement('div');\n",
              "          docLink.innerHTML = docLinkHtml;\n",
              "          element.appendChild(docLink);\n",
              "        }\n",
              "      </script>\n",
              "    </div>\n",
              "  </div>\n",
              "  "
            ]
          },
          "metadata": {},
          "execution_count": 41
        }
      ]
    },
    {
      "cell_type": "code",
      "source": [
        "result = kmeans.predict(test_df)\n",
        "print('My weather prediction cluster: ', result)"
      ],
      "metadata": {
        "id": "Xp6O0g0XHPZs",
        "colab": {
          "base_uri": "https://localhost:8080/"
        },
        "outputId": "b3d4acb1-bb2e-4a33-daf2-c41f4ed48e2b"
      },
      "execution_count": null,
      "outputs": [
        {
          "output_type": "stream",
          "name": "stdout",
          "text": [
            "My weather prediction cluster:  [1]\n"
          ]
        }
      ]
    },
    {
      "cell_type": "markdown",
      "source": [
        "### Conclusion\n",
        "\n",
        "The project implements K-means clustering on the gathered sensor data. The results obtained are as expected."
      ],
      "metadata": {
        "id": "jmJPV6B5HzCC"
      }
    },
    {
      "cell_type": "code",
      "source": [
        ""
      ],
      "metadata": {
        "id": "XCHXrdLfAnL_"
      },
      "execution_count": null,
      "outputs": []
    }
  ]
}